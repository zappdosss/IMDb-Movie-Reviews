{
  "nbformat": 4,
  "nbformat_minor": 0,
  "metadata": {
    "colab": {
      "provenance": [],
      "collapsed_sections": [],
      "toc_visible": true
    },
    "kernelspec": {
      "name": "python3",
      "display_name": "Python 3"
    },
    "language_info": {
      "name": "python"
    }
  },
  "cells": [
    {
      "cell_type": "markdown",
      "metadata": {
        "id": "_mJQGbTFOCAx"
      },
      "source": [
        "<h1 align='center'; color ='blue'><b><font color='pickle'></p>Spam Detection</b></h1>\n",
        "\n",
        "<font color = 'indianred' size = 4 >**Read complete instructions before starting the HW** </font>\n"
      ]
    },
    {
      "cell_type": "code",
      "source": [
        "# import libraries\n",
        "import pandas as pd\n",
        "import numpy as np\n",
        "from pathlib import Path\n",
        "import zipfile\n",
        "import tarfile\n",
        "import matplotlib.pyplot as plt\n",
        "\n",
        "# save and load models\n",
        "import joblib\n",
        "\n",
        "import re\n",
        "\n",
        "#from scipy.sparse import hstack\n",
        "from sklearn.linear_model import LogisticRegression\n",
        "from sklearn.feature_extraction.text import TfidfTransformer, CountVectorizer, TfidfVectorizer\n",
        "from sklearn.model_selection import GridSearchCV\n",
        "from sklearn.metrics import classification_report\n",
        "from sklearn.pipeline import Pipeline\n",
        "from  sklearn.compose import ColumnTransformer\n",
        "\n",
        "from xgboost import XGBClassifier\n",
        "\n",
        "from sklearn.experimental import enable_halving_search_cv # noqa\n",
        "from sklearn.model_selection import HalvingRandomSearchCV\n",
        "from sklearn.model_selection import HalvingGridSearchCV\n",
        "\n",
        "\n",
        "from sklearn.metrics import fbeta_score, make_scorer\n",
        "\n",
        "import warnings\n",
        "warnings.filterwarnings('ignore')"
      ],
      "metadata": {
        "id": "x7sVk_PO_8pO"
      },
      "execution_count": 1475,
      "outputs": []
    },
    {
      "cell_type": "markdown",
      "metadata": {
        "id": "L4irHqIdFTRc"
      },
      "source": [
        "# <font color = 'dodgerblue'>**Mount Google drive and Specify folder paths**"
      ]
    },
    {
      "cell_type": "code",
      "execution_count": 1476,
      "metadata": {
        "colab": {
          "base_uri": "https://localhost:8080/"
        },
        "id": "2_4UPFbXFX8l",
        "outputId": "ae36b6fc-42c6-4188-c634-97496f143196"
      },
      "outputs": [
        {
          "output_type": "stream",
          "name": "stdout",
          "text": [
            "Drive already mounted at /content/drive; to attempt to forcibly remount, call drive.mount(\"/content/drive\", force_remount=True).\n"
          ]
        }
      ],
      "source": [
        "from google.colab import drive\n",
        "drive.mount('/content/drive')"
      ]
    },
    {
      "cell_type": "code",
      "execution_count": 1477,
      "metadata": {
        "id": "12evQUDmH6Ls"
      },
      "outputs": [],
      "source": [
        "# Make sure you change the Path to where you want to save data\n",
        "# In the code below - datasets is the folder name in my google drive\n",
        "# you can change this to appropriate folder for your drive\n",
        "# for example you may want to save data to BUAN6341/HW1/Data\n",
        "# in this case the below code should be modified to : '/content/drive/MyDrive/BUAN6341/HW2/Data'\n",
        "\n",
        "base_path = r'/content/drive/MyDrive/6342_NLP/'"
      ]
    },
    {
      "cell_type": "code",
      "execution_count": 1478,
      "metadata": {
        "id": "Ad6kZ35AWtic"
      },
      "outputs": [],
      "source": [
        "# create a POSIX path for data folder\n",
        "# we can use this to navigate file system\n",
        "base_folder = Path(base_path)"
      ]
    },
    {
      "cell_type": "code",
      "execution_count": 1479,
      "metadata": {
        "id": "HgR_LxhPQqCF"
      },
      "outputs": [],
      "source": [
        "# I usually keep teh compressed files in archive folder and unzip these files in data folder\n",
        "# You can skip this step if you do not want to follow this folder structure\n",
        "\n",
        "# The / can join several paths or a mix of paths and strings given, atleast one of those\n",
        "# paths should be an instance of class `Path` from `pathlib` library (as shown below).\n",
        "\n",
        "archive_folder = base_folder/'archive'\n",
        "data_folder = base_folder/'datasets'\n",
        "model_folder = base_folder/'models'"
      ]
    },
    {
      "cell_type": "code",
      "execution_count": 1480,
      "metadata": {
        "colab": {
          "base_uri": "https://localhost:8080/"
        },
        "id": "Eg_NLEwxGIri",
        "outputId": "4a992dc0-cb36-4aba-ef88-f259f2291c1a"
      },
      "outputs": [
        {
          "output_type": "execute_result",
          "data": {
            "text/plain": [
              "PosixPath('/content')"
            ]
          },
          "metadata": {},
          "execution_count": 1480
        }
      ],
      "source": [
        "# check current working directory\n",
        "Path.cwd()"
      ]
    },
    {
      "cell_type": "code",
      "source": [
        "import sys\n",
        "sys.path.append('/content/drive/MyDrive/6342_NLP/custom-functions')"
      ],
      "metadata": {
        "id": "ov1TgA-yz9kl"
      },
      "execution_count": 1481,
      "outputs": []
    },
    {
      "cell_type": "code",
      "source": [
        "import custom_preprocessor as cp\n",
        "import featurizer as ft\n",
        "import plot_learning_curve as plc"
      ],
      "metadata": {
        "id": "7oq-FNKrz-Du"
      },
      "execution_count": 1482,
      "outputs": []
    },
    {
      "cell_type": "markdown",
      "metadata": {
        "id": "cXeG6ZQ4OVDj"
      },
      "source": [
        "# <font color='pickle'> **Q1: Load the dataset  (1 Point)**\n",
        "\n",
        "- For this Hw you will usespam dataset from kaggle which can be found from [this](https://www.kaggle.com/uciml/sms-spam-collection-dataset) link. You can download this data and either upload it in google drive or in colab workspace. Load the data in pandas dataframe. \n",
        "\n",
        "- There are only two useful columns. These columns are related to (1) label (ham and spam) and the (2) text of email.\n",
        "\n",
        "- Rename columns as label and message\n",
        "\n",
        "- Find the %  ham amd spam in the data.\n",
        "\n",
        "\n",
        "\n"
      ]
    },
    {
      "cell_type": "code",
      "source": [
        "df = pd.read_csv(data_folder/'spam.csv', encoding = 'ISO-8859-1')\n",
        "df = df.fillna('')"
      ],
      "metadata": {
        "id": "Gutqu05G__Ne"
      },
      "execution_count": 1483,
      "outputs": []
    },
    {
      "cell_type": "code",
      "source": [
        "df['v2']=df.apply(lambda x:'%s %s %s %s' % (x['v2'],x['Unnamed: 2'],x['Unnamed: 3'],x['Unnamed: 4']),axis=1)\n",
        "df['v2']=df['v2'].apply(lambda x:x.strip())"
      ],
      "metadata": {
        "id": "a65N0CZND8oV"
      },
      "execution_count": 1484,
      "outputs": []
    },
    {
      "cell_type": "code",
      "source": [
        "df['v2'][1]"
      ],
      "metadata": {
        "colab": {
          "base_uri": "https://localhost:8080/",
          "height": 0
        },
        "id": "zy1e-5ZNDZtp",
        "outputId": "2d7fc9a6-89f2-49dc-a718-06f6f35d7465"
      },
      "execution_count": 1485,
      "outputs": [
        {
          "output_type": "execute_result",
          "data": {
            "text/plain": [
              "'Ok lar... Joking wif u oni...'"
            ],
            "application/vnd.google.colaboratory.intrinsic+json": {
              "type": "string"
            }
          },
          "metadata": {},
          "execution_count": 1485
        }
      ]
    },
    {
      "cell_type": "code",
      "source": [
        "df = df.loc[:, ~df.columns.str.contains('^Unnamed')]\n",
        "df.columns"
      ],
      "metadata": {
        "colab": {
          "base_uri": "https://localhost:8080/"
        },
        "id": "_KDExjKxDKfe",
        "outputId": "5abe0893-67c6-40c7-8702-a1db3c8b1973"
      },
      "execution_count": 1486,
      "outputs": [
        {
          "output_type": "execute_result",
          "data": {
            "text/plain": [
              "Index(['v1', 'v2'], dtype='object')"
            ]
          },
          "metadata": {},
          "execution_count": 1486
        }
      ]
    },
    {
      "cell_type": "code",
      "source": [
        "df2 = pd.get_dummies(df['v1'])\n",
        "\n",
        "df3 = pd.concat((df2, df), axis=1)\n",
        "df3 = df3.drop(['v1'], axis=1)\n",
        "df3 = df3.drop(['ham'], axis=1)\n",
        "df = df3.rename(columns={'spam': 'v1'})"
      ],
      "metadata": {
        "id": "_CN6I6f365JX"
      },
      "execution_count": 1487,
      "outputs": []
    },
    {
      "cell_type": "code",
      "source": [
        "# train = df.sample(frac=0.8, replace=True, random_state=1)\n",
        "# train = df.sample(frac=0.8, replace=True, random_state=1)\n",
        "\n",
        "from sklearn.model_selection import train_test_split\n",
        "train, test = train_test_split(df,stratify=df['v1'], test_size=0.33, random_state=42)"
      ],
      "metadata": {
        "id": "imsHv8SE1ceD"
      },
      "execution_count": 1488,
      "outputs": []
    },
    {
      "cell_type": "code",
      "source": [
        "train_small = train.sample(frac=0.1, replace=True, random_state=1)\n",
        "test_small = test.sample(frac=0.1, replace=True, random_state=1)"
      ],
      "metadata": {
        "id": "BXQCz2ij19Lv"
      },
      "execution_count": 1489,
      "outputs": []
    },
    {
      "cell_type": "markdown",
      "metadata": {
        "id": "HVGBwK11RtQI"
      },
      "source": [
        "# <font color ='pickle'>**Exploratory Data Analysis**"
      ]
    },
    {
      "cell_type": "code",
      "execution_count": 1490,
      "metadata": {
        "colab": {
          "base_uri": "https://localhost:8080/"
        },
        "execution": {
          "iopub.execute_input": "2022-02-16T12:25:40.556571Z",
          "iopub.status.busy": "2022-02-16T12:25:40.556428Z",
          "iopub.status.idle": "2022-02-16T12:25:40.564134Z",
          "shell.execute_reply": "2022-02-16T12:25:40.563845Z",
          "shell.execute_reply.started": "2022-02-16T12:25:40.556558Z"
        },
        "id": "kZl-W7FmQKNn",
        "outputId": "145a96af-50d0-4cda-8376-8fbac8047e03",
        "tags": []
      },
      "outputs": [
        {
          "output_type": "stream",
          "name": "stdout",
          "text": [
            "<class 'pandas.core.frame.DataFrame'>\n",
            "Int64Index: 373 entries, 810 to 1269\n",
            "Data columns (total 2 columns):\n",
            " #   Column  Non-Null Count  Dtype \n",
            "---  ------  --------------  ----- \n",
            " 0   v1      373 non-null    uint8 \n",
            " 1   v2      373 non-null    object\n",
            "dtypes: object(1), uint8(1)\n",
            "memory usage: 6.2+ KB\n"
          ]
        }
      ],
      "source": [
        "# Printing basic info\n",
        "train_small.info()"
      ]
    },
    {
      "cell_type": "code",
      "execution_count": 1491,
      "metadata": {
        "colab": {
          "base_uri": "https://localhost:8080/"
        },
        "execution": {
          "iopub.execute_input": "2022-02-16T12:25:41.424413Z",
          "iopub.status.busy": "2022-02-16T12:25:41.424265Z",
          "iopub.status.idle": "2022-02-16T12:25:41.428433Z",
          "shell.execute_reply": "2022-02-16T12:25:41.427996Z",
          "shell.execute_reply.started": "2022-02-16T12:25:41.424399Z"
        },
        "id": "fb8N0DxOS4ya",
        "outputId": "a76fdf61-be7d-4000-bac2-3c3ce43b9c40",
        "tags": []
      },
      "outputs": [
        {
          "output_type": "execute_result",
          "data": {
            "text/plain": [
              "0    315\n",
              "1     58\n",
              "Name: v1, dtype: int64"
            ]
          },
          "metadata": {},
          "execution_count": 1491
        }
      ],
      "source": [
        "# Checking distribution of class labels for train dataset\n",
        "train_small['v1'].value_counts()"
      ]
    },
    {
      "cell_type": "code",
      "execution_count": 1492,
      "metadata": {
        "colab": {
          "base_uri": "https://localhost:8080/"
        },
        "execution": {
          "iopub.execute_input": "2022-02-16T12:25:45.372151Z",
          "iopub.status.busy": "2022-02-16T12:25:45.372006Z",
          "iopub.status.idle": "2022-02-16T12:25:45.375930Z",
          "shell.execute_reply": "2022-02-16T12:25:45.375646Z",
          "shell.execute_reply.started": "2022-02-16T12:25:45.372138Z"
        },
        "id": "1_JOgXnP7iaR",
        "outputId": "752094d7-64cb-4f65-c3a5-7214e2b75aa1",
        "tags": []
      },
      "outputs": [
        {
          "output_type": "execute_result",
          "data": {
            "text/plain": [
              "0    154\n",
              "1     30\n",
              "Name: v1, dtype: int64"
            ]
          },
          "metadata": {},
          "execution_count": 1492
        }
      ],
      "source": [
        "# Checking distribution of class labels for test dataset\n",
        "test_small['v1'].value_counts()"
      ]
    },
    {
      "cell_type": "markdown",
      "metadata": {
        "id": "pNdWCViagO4F"
      },
      "source": [
        "# <font color='pickle'> **Q2 : Provide the metric for evaluating model (1 Point)**</font>\n",
        "\n",
        "As you will notice, the  data is highly imbalanced (most messages are labelled as ham and only few are labelled as spam). Always predicting ham will give us very good accuracy (close to 90%). So you need to choose a different metric.\n",
        "\n",
        "Task: Provde the metric you will choose to evaluate your model. Explain why this is an appropriate metric for this case."
      ]
    },
    {
      "cell_type": "markdown",
      "source": [
        "<font color='orange' size=4> *Spam detection is a classic Imbalanced Classification problem. Hence Precision and Recall generated from the Confusion Matrix are a great way to compare the performance of any 2 models. Precision will make sure that out of all the messages detected as spam are actually spam, whereas recall will make sure that we capture as much spam messages from the dataset as possible. We need F-beta metric that will combine the trade off between precision and recall yet give slight preference to Recall. This is needed since we can allow a few messages to be incorrectly classifed as Spam but cannot let spam messages go to the inbox. Let us use beta = 0.5 Hence our metric for evaluating models will be F0.5 score.*</font>\n",
        "\n",
        "<font color='orange' size=4>*fbeta_score(y_true, y_pred, beta=0.5)*</font>\n",
        "\n",
        "\n"
      ],
      "metadata": {
        "id": "4byYjUL1UNts"
      }
    },
    {
      "cell_type": "code",
      "source": [
        "fbeta_scorer = make_scorer(fbeta_score, beta=0.5)"
      ],
      "metadata": {
        "id": "-P80WfKA3QsQ"
      },
      "execution_count": 1493,
      "outputs": []
    },
    {
      "cell_type": "markdown",
      "metadata": {
        "id": "1WWIHVlDHrHg"
      },
      "source": [
        "# <font color ='pickle'>**Preprocessing**"
      ]
    },
    {
      "cell_type": "code",
      "source": [
        "X_train, X_test, y_train, y_test = train_small['v2'].values, test_small['v2'].values, train_small['v1'].values, test_small['v1'].values\n",
        "\n",
        "# X_train, X_test, y_train, y_test = train['v2'].values, test['v2'].values, train['v1'].values, test['v1'].values\n",
        "\n",
        "print(f'X_train: {X_train.shape} y_train: {y_train.shape}')\n",
        "print(f'X_test: {X_test.shape} y_test: {y_test.shape}')"
      ],
      "metadata": {
        "colab": {
          "base_uri": "https://localhost:8080/"
        },
        "id": "rN6mrnD14kBH",
        "outputId": "6337ddc2-7651-483f-9ab7-729ec06585ca"
      },
      "execution_count": 1494,
      "outputs": [
        {
          "output_type": "stream",
          "name": "stdout",
          "text": [
            "X_train: (373,) y_train: (373,)\n",
            "X_test: (184,) y_test: (184,)\n"
          ]
        }
      ]
    },
    {
      "cell_type": "code",
      "source": [
        "X_train_cleaned = cp.SpacyPreprocessor(model = 'en_core_web_sm', remove_stop=True).transform(X_train)"
      ],
      "metadata": {
        "id": "08mz6qoQ4OgL"
      },
      "execution_count": 1495,
      "outputs": []
    },
    {
      "cell_type": "code",
      "source": [
        "# save  this to a file\n",
        "X_train_cleaned_sparse_embed = data_folder / 'x_train_cleaned_sparse_embed.pkl'"
      ],
      "metadata": {
        "id": "u76KNV-xAa_8"
      },
      "execution_count": 1496,
      "outputs": []
    },
    {
      "cell_type": "code",
      "source": [
        "joblib.dump(X_train_cleaned, X_train_cleaned_sparse_embed)"
      ],
      "metadata": {
        "colab": {
          "base_uri": "https://localhost:8080/"
        },
        "id": "h3drVuLSAr-O",
        "outputId": "3cfa5a80-8947-41ab-fc40-3b8535341a04"
      },
      "execution_count": 1497,
      "outputs": [
        {
          "output_type": "execute_result",
          "data": {
            "text/plain": [
              "['/content/drive/MyDrive/6342_NLP/datasets/x_train_cleaned_sparse_embed.pkl']"
            ]
          },
          "metadata": {},
          "execution_count": 1497
        }
      ]
    },
    {
      "cell_type": "code",
      "source": [
        "X_test_cleaned = cp.SpacyPreprocessor(model = 'en_core_web_sm', remove_stop=True).transform(X_test)"
      ],
      "metadata": {
        "id": "KjUTT4zBA7T0"
      },
      "execution_count": 1498,
      "outputs": []
    },
    {
      "cell_type": "code",
      "source": [
        "# save  this to a file\n",
        "X_test_cleaned_sparse_embed = data_folder / 'x_test_cleaned_sparse_embed.pkl'"
      ],
      "metadata": {
        "id": "eQ3sHaRSA7T0"
      },
      "execution_count": 1499,
      "outputs": []
    },
    {
      "cell_type": "code",
      "source": [
        "joblib.dump(X_test_cleaned, X_test_cleaned_sparse_embed)"
      ],
      "metadata": {
        "colab": {
          "base_uri": "https://localhost:8080/"
        },
        "outputId": "eff5e65e-493e-47f7-8d25-8e0003538e2c",
        "id": "sAOO0VwUA7T0"
      },
      "execution_count": 1500,
      "outputs": [
        {
          "output_type": "execute_result",
          "data": {
            "text/plain": [
              "['/content/drive/MyDrive/6342_NLP/datasets/x_test_cleaned_sparse_embed.pkl']"
            ]
          },
          "metadata": {},
          "execution_count": 1500
        }
      ]
    },
    {
      "cell_type": "code",
      "source": [
        "# X_test_cleaned = cp.SpacyPreprocessor(model = 'en_core_web_sm', remove_stop=True).transform(X_test)"
      ],
      "metadata": {
        "id": "szuCrvQM6C3K"
      },
      "execution_count": 1501,
      "outputs": []
    },
    {
      "cell_type": "markdown",
      "metadata": {
        "id": "rH8_mvGhiThV"
      },
      "source": [
        "# <font color='pickle'> **Q3 : Classification Pipelines (18 Points)**</font>\n",
        "\n",
        "In the previous lectures you learned Data processing, Featurization such as CountVectorizer, TFIDFVectorizer, and also Feature Engineering.\n",
        "* You will now use folllowing methods to create fearures which you can use in your model. \n",
        "\n",
        "    1. Sparse Embeddings (TF-IDF) (6 Points)\n",
        "    2. Feature Engineering (see examples below) (6 Points)\n",
        "    3. Sparse Embeddings (TF-IDF) + Feature Engineering (6 Points)\n",
        "\n",
        "**Approach:**\n",
        "\n",
        "<font color='indianred'> ****Use a smaller subset of dataset (e.g. 10 %) to evaluate the three pipelines . Based on your analysis (e.g. model score, learning curves) , choose one pipeline from the three. Provde your rational for choosing the pipleine. Train only the final pipeline on randomly selected larger subset (e.g. 40%) of the data.** </font>\n",
        "\n",
        "**Requirements:** \n",
        "\n",
        "1. You can use any ML model (Logistic Regression, XgBoost) for the classification. You will need to tune the **model for imbalanced dataset** (The link on XGBoost tutorial for imbalanced data: https://machinelearningmastery.com/xgboost-for-imbalanced-classification/).\n",
        "\n",
        "2. For feature engineering, you can choose from the examples below. You do not  have to use all of them. You can add other featues as well. Think about what faetures can distinguish a spam from a regular email. Some examples :\n",
        "\n",
        ">> Count of following  (Words, characters, digits, exclamation marks, numbers, Nouns, ProperNouns, AUX, VERBS, Adjectives, named entities, spelling mistakes (see the link on how to get spelling mistakes https://pypi.org/project/pyspellchecker/). \n",
        "\n",
        "3. For Sparse embeddings you will use **tfidf vectorization**. You need to choose appopriate parameters e.g. min_df, max_df, max_faetures, n-grams etc.). \n",
        "\n",
        "4. Think carefully about the pre-processing you will do.\n",
        "\n",
        "Tip: <font color = 'indianred'>**Using GridSearch for hyperparameter tuning might take a lot of time. Try using RandomizedSearch.**</font> You can also explore faster implementation of Gridsearch and RandomizedSearch in sklearn: \n",
        "\n",
        "1. [Halving Grid Search](https://scikit-learn.org/stable/modules/generated/sklearn.model_selection.HalvingGridSearchCV.html?highlight=halving#sklearn.model_selection.HalvingGridSearchCV)\n",
        "\n",
        "2. [HalvingRandomSearchCV](https://scikit-learn.org/stable/modules/generated/sklearn.model_selection.HalvingRandomSearchCV.html?highlight=halving#sklearn.model_selection.HalvingRandomSearchCV)\n",
        "\n",
        "\n",
        "\n"
      ]
    },
    {
      "cell_type": "markdown",
      "source": [
        "## <font color='pickle'> **Q3.1 Pipeline 1: Data Preprocessing + Sparse Embeddings (TF-IDF) + ML Model**</font>"
      ],
      "metadata": {
        "id": "R0Sl2Zwx74as"
      }
    },
    {
      "cell_type": "markdown",
      "metadata": {
        "id": "hwovYJoLxhRM"
      },
      "source": [
        "###<font color ='pickle'>**Create Pipeline**"
      ]
    },
    {
      "cell_type": "code",
      "execution_count": 1502,
      "metadata": {
        "execution": {
          "iopub.execute_input": "2022-02-16T12:26:40.454196Z",
          "iopub.status.busy": "2022-02-16T12:26:40.453867Z",
          "iopub.status.idle": "2022-02-16T12:26:40.456629Z",
          "shell.execute_reply": "2022-02-16T12:26:40.456309Z",
          "shell.execute_reply.started": "2022-02-16T12:26:40.454168Z"
        },
        "tags": [],
        "id": "BZFN0FLc8sRr"
      },
      "outputs": [],
      "source": [
        "classifier_1a = Pipeline([('vectorizer', TfidfVectorizer(analyzer='word', token_pattern=r\"[\\S]+\")),\n",
        "                         ('classifier', LogisticRegression(max_iter = 10000)),\n",
        "                        ])"
      ]
    },
    {
      "cell_type": "markdown",
      "metadata": {
        "id": "gf6m31JZxhRM"
      },
      "source": [
        "### <font color ='pickle'>**Parameter Grid**"
      ]
    },
    {
      "cell_type": "code",
      "execution_count": 1503,
      "metadata": {
        "execution": {
          "iopub.execute_input": "2022-02-16T12:26:49.919157Z",
          "iopub.status.busy": "2022-02-16T12:26:49.918938Z",
          "iopub.status.idle": "2022-02-16T12:26:49.921537Z",
          "shell.execute_reply": "2022-02-16T12:26:49.921021Z",
          "shell.execute_reply.started": "2022-02-16T12:26:49.919142Z"
        },
        "id": "Rj859icxkmvH",
        "tags": []
      },
      "outputs": [],
      "source": [
        "# We have used default valus for all parameters except for lammetizer\n",
        "# Ideally we can specify range of values for all parameters\n",
        "# If the search space is very large then we should use RandomSerachCV\n",
        "\n",
        "param_grid_classifier_1a = {'vectorizer__max_features': [100, 500, 1000, 2000, 5000],\n",
        "                           \n",
        "                           'classifier__C': [ 0.1, 0.5, 0.8, 1, 10, 100]}"
      ]
    },
    {
      "cell_type": "markdown",
      "metadata": {
        "execution": {
          "iopub.execute_input": "2022-02-14T23:23:08.590947Z",
          "iopub.status.busy": "2022-02-14T23:23:08.590808Z",
          "iopub.status.idle": "2022-02-14T23:23:08.593523Z",
          "shell.execute_reply": "2022-02-14T23:23:08.593065Z",
          "shell.execute_reply.started": "2022-02-14T23:23:08.590934Z"
        },
        "id": "giGqSBD2xhRN"
      },
      "source": [
        "### <font color ='pickle'>**Apply HalfGridSearch**"
      ]
    },
    {
      "cell_type": "code",
      "execution_count": 1504,
      "metadata": {
        "execution": {
          "iopub.execute_input": "2022-02-16T12:26:56.339307Z",
          "iopub.status.busy": "2022-02-16T12:26:56.339148Z",
          "iopub.status.idle": "2022-02-16T12:26:56.341758Z",
          "shell.execute_reply": "2022-02-16T12:26:56.341352Z",
          "shell.execute_reply.started": "2022-02-16T12:26:56.339292Z"
        },
        "id": "fOI19ImAkc4U",
        "tags": []
      },
      "outputs": [],
      "source": [
        "# We will now use Gridserach to find fine tune hyperparameters using cross validation\n",
        "# The advantage of using pipelines is that we can avoid data leakage\n",
        "# Since we have balanced data set, we will use default scoring method of accuracy\n",
        "# the typical value of cv used is 5. We are using 3, just for demonstration.\n",
        "\n",
        "# grid_classifier_1a = GridSearchCV(estimator=classifier_1a, param_grid=param_grid_classifier_1a, cv = 5)\n",
        "\n",
        "halfgrid_classifier_1a = HalvingGridSearchCV(estimator=classifier_1a, param_grid=param_grid_classifier_1a, cv = 3, scoring=fbeta_scorer)"
      ]
    },
    {
      "cell_type": "code",
      "execution_count": 1505,
      "metadata": {
        "colab": {
          "base_uri": "https://localhost:8080/"
        },
        "execution": {
          "iopub.execute_input": "2022-02-16T12:26:57.252258Z",
          "iopub.status.busy": "2022-02-16T12:26:57.252106Z",
          "iopub.status.idle": "2022-02-16T12:27:02.229304Z",
          "shell.execute_reply": "2022-02-16T12:27:02.228898Z",
          "shell.execute_reply.started": "2022-02-16T12:26:57.252245Z"
        },
        "id": "nbRCGcGPlKVj",
        "outputId": "60e14088-f76b-4df0-d15b-5483925d153b",
        "tags": []
      },
      "outputs": [
        {
          "output_type": "execute_result",
          "data": {
            "text/plain": [
              "HalvingGridSearchCV(cv=3,\n",
              "                    estimator=Pipeline(steps=[('vectorizer',\n",
              "                                               TfidfVectorizer(token_pattern='[\\\\S]+')),\n",
              "                                              ('classifier',\n",
              "                                               LogisticRegression(max_iter=10000))]),\n",
              "                    param_grid={'classifier__C': [0.1, 0.5, 0.8, 1, 10, 100],\n",
              "                                'vectorizer__max_features': [100, 500, 1000,\n",
              "                                                             2000, 5000]},\n",
              "                    scoring=make_scorer(fbeta_score, beta=0.5))"
            ]
          },
          "metadata": {},
          "execution_count": 1505
        }
      ],
      "source": [
        "# Fit the model on training data\n",
        "# X_trained_cleaned = joblib.load(X_train_cleaned_sparse_embed)\n",
        "halfgrid_classifier_1a.fit(X_train_cleaned, y_train)"
      ]
    },
    {
      "cell_type": "markdown",
      "source": [
        "### <font color ='pickle'>**Save Model**"
      ],
      "metadata": {
        "id": "0iuYbneqEkN5"
      }
    },
    {
      "cell_type": "code",
      "execution_count": 1506,
      "metadata": {
        "execution": {
          "iopub.execute_input": "2022-02-16T12:27:11.630666Z",
          "iopub.status.busy": "2022-02-16T12:27:11.630477Z",
          "iopub.status.idle": "2022-02-16T12:27:11.632985Z",
          "shell.execute_reply": "2022-02-16T12:27:11.632616Z",
          "shell.execute_reply.started": "2022-02-16T12:27:11.630651Z"
        },
        "id": "7FN1rJ7g4-u3",
        "tags": []
      },
      "outputs": [],
      "source": [
        "file_model_sparse_embed = model_folder / 'sparse_embed_model.pkl'"
      ]
    },
    {
      "cell_type": "code",
      "execution_count": 1507,
      "metadata": {
        "colab": {
          "base_uri": "https://localhost:8080/"
        },
        "execution": {
          "iopub.execute_input": "2022-02-16T12:27:12.719611Z",
          "iopub.status.busy": "2022-02-16T12:27:12.719411Z",
          "iopub.status.idle": "2022-02-16T12:27:12.791467Z",
          "shell.execute_reply": "2022-02-16T12:27:12.791014Z",
          "shell.execute_reply.started": "2022-02-16T12:27:12.719597Z"
        },
        "id": "yJS2mfxu4-u3",
        "outputId": "6cf4c6ca-b356-499f-f2f2-eaebd7249566",
        "tags": []
      },
      "outputs": [
        {
          "output_type": "execute_result",
          "data": {
            "text/plain": [
              "['/content/drive/MyDrive/6342_NLP/models/sparse_embed_model.pkl']"
            ]
          },
          "metadata": {},
          "execution_count": 1507
        }
      ],
      "source": [
        "joblib.dump(halfgrid_classifier_1a.best_estimator_, file_model_sparse_embed)"
      ]
    },
    {
      "cell_type": "markdown",
      "source": [
        "### <font color ='pickle'>**Load Model**"
      ],
      "metadata": {
        "id": "5AH5u0IEEqil"
      }
    },
    {
      "cell_type": "code",
      "execution_count": 1508,
      "metadata": {
        "execution": {
          "iopub.execute_input": "2022-02-16T12:27:15.702635Z",
          "iopub.status.busy": "2022-02-16T12:27:15.702454Z",
          "iopub.status.idle": "2022-02-16T12:27:15.741344Z",
          "shell.execute_reply": "2022-02-16T12:27:15.740955Z",
          "shell.execute_reply.started": "2022-02-16T12:27:15.702622Z"
        },
        "id": "2383mlYv4-u4",
        "tags": []
      },
      "outputs": [],
      "source": [
        "# load the saved model\n",
        "loaded_model_sparse_embed = joblib.load(file_model_sparse_embed)"
      ]
    },
    {
      "cell_type": "markdown",
      "source": [
        "### <font color ='pickle'>**Plot Learning Curve**"
      ],
      "metadata": {
        "id": "nWuAFMcDDzIr"
      }
    },
    {
      "cell_type": "code",
      "execution_count": 1509,
      "metadata": {
        "colab": {
          "base_uri": "https://localhost:8080/",
          "height": 351
        },
        "execution": {
          "iopub.execute_input": "2022-02-16T12:27:25.319888Z",
          "iopub.status.busy": "2022-02-16T12:27:25.319737Z",
          "iopub.status.idle": "2022-02-16T12:27:29.106775Z",
          "shell.execute_reply": "2022-02-16T12:27:29.106368Z",
          "shell.execute_reply.started": "2022-02-16T12:27:25.319875Z"
        },
        "id": "Xwks6ftYeXH_",
        "outputId": "9afefea9-ce6a-4e6d-b2fe-ec4b2035ffe0",
        "tags": []
      },
      "outputs": [
        {
          "output_type": "display_data",
          "data": {
            "text/plain": [
              "<Figure size 1440x360 with 3 Axes>"
            ],
            "image/png": "[encoded data removed]"
          },
          "metadata": {
            "needs_background": "light"
          }
        }
      ],
      "source": [
        "# plot learning curces\n",
        "# This cell can take upto 30 minutes to run\n",
        "plc.plot_learning_curve(loaded_model_sparse_embed, 'Learning Curves Pipeline1', X_train_cleaned, y_train, scoring=fbeta_scorer)\n",
        "plt.show()"
      ]
    },
    {
      "cell_type": "code",
      "execution_count": 1510,
      "metadata": {
        "colab": {
          "base_uri": "https://localhost:8080/"
        },
        "execution": {
          "iopub.execute_input": "2022-02-16T12:27:06.345667Z",
          "iopub.status.busy": "2022-02-16T12:27:06.345315Z",
          "iopub.status.idle": "2022-02-16T12:27:06.350050Z",
          "shell.execute_reply": "2022-02-16T12:27:06.349674Z",
          "shell.execute_reply.started": "2022-02-16T12:27:06.345653Z"
        },
        "id": "pMMD5DZNADbB",
        "outputId": "bfbab896-88a8-4935-cb1e-85763aa5b062",
        "tags": []
      },
      "outputs": [
        {
          "output_type": "stream",
          "name": "stdout",
          "text": [
            "Best cross-validation score: 0.82\n",
            "\n",
            "Best parameters:  {'classifier__C': 100, 'vectorizer__max_features': 2000}\n",
            "\n",
            "Best estimator:  Pipeline(steps=[('vectorizer',\n",
            "                 TfidfVectorizer(max_features=2000, token_pattern='[\\\\S]+')),\n",
            "                ('classifier', LogisticRegression(C=100, max_iter=10000))])\n"
          ]
        }
      ],
      "source": [
        "print(f'Best cross-validation score: {halfgrid_classifier_1a.best_score_:.2f}')\n",
        "print(\"\\nBest parameters: \", halfgrid_classifier_1a.best_params_)\n",
        "print(\"\\nBest estimator: \", halfgrid_classifier_1a.best_estimator_)"
      ]
    },
    {
      "cell_type": "markdown",
      "metadata": {
        "id": "21c5-TW2kShB"
      },
      "source": [
        "###<font color ='pickle'>**Evaluate model on test datset**"
      ]
    },
    {
      "cell_type": "code",
      "execution_count": 1511,
      "metadata": {
        "execution": {
          "iopub.execute_input": "2022-02-16T12:28:34.667813Z",
          "iopub.status.busy": "2022-02-16T12:28:34.667670Z",
          "iopub.status.idle": "2022-02-16T12:28:34.670320Z",
          "shell.execute_reply": "2022-02-16T12:28:34.669888Z",
          "shell.execute_reply.started": "2022-02-16T12:28:34.667800Z"
        },
        "tags": [],
        "id": "l-CqMGeYkShC"
      },
      "outputs": [],
      "source": [
        "# Final Pipeline\n",
        "def final_pipeline(text):\n",
        "  # cleaned_text = cp.SpacyPreprocessor(model = 'en_core_web_sm', remove_stop=True).transform(text)\n",
        "  cleaned_text = joblib.load(X_test_cleaned_sparse_embed)\n",
        "  predictions = loaded_model_sparse_embed.predict(cleaned_text)\n",
        "  return predictions"
      ]
    },
    {
      "cell_type": "code",
      "execution_count": 1512,
      "metadata": {
        "execution": {
          "iopub.execute_input": "2022-02-16T12:28:36.631728Z",
          "iopub.status.busy": "2022-02-16T12:28:36.631587Z",
          "iopub.status.idle": "2022-02-16T12:28:36.742824Z",
          "shell.execute_reply": "2022-02-16T12:28:36.742338Z",
          "shell.execute_reply.started": "2022-02-16T12:28:36.631715Z"
        },
        "tags": [],
        "id": "dJkTNz9EkShC"
      },
      "outputs": [],
      "source": [
        "# predicted values for Test data set\n",
        "y_test_pred = final_pipeline(X_test)"
      ]
    },
    {
      "cell_type": "markdown",
      "metadata": {
        "id": "KcXzSIBiCoD5"
      },
      "source": [
        "### <font color ='pickle'>**Classification report for test dataset**"
      ]
    },
    {
      "cell_type": "markdown",
      "metadata": {
        "id": "U9cq-0lPCoD6"
      },
      "source": [
        "* As we have already seen, our dataset is well balanced. Hence we have used accuracy as our scoring method.\n",
        "* However, it is a good idea to also look at classification report which gives precision, recall, and f1-score for both labels and average score also.\n",
        "* This metric works very well in case of balanced as well as imbalanced data because it lets you measure the performance of model for each labels."
      ]
    },
    {
      "cell_type": "code",
      "execution_count": 1513,
      "metadata": {
        "colab": {
          "base_uri": "https://localhost:8080/"
        },
        "execution": {
          "iopub.execute_input": "2022-02-16T12:42:11.389131Z",
          "iopub.status.busy": "2022-02-16T12:42:11.388727Z",
          "iopub.status.idle": "2022-02-16T12:42:11.398640Z",
          "shell.execute_reply": "2022-02-16T12:42:11.398180Z",
          "shell.execute_reply.started": "2022-02-16T12:42:11.389116Z"
        },
        "outputId": "d3e2ff2a-9ebf-4f46-dab5-241f0e21f739",
        "tags": [],
        "id": "Q2F063dlCoD6"
      },
      "outputs": [
        {
          "output_type": "stream",
          "name": "stdout",
          "text": [
            "\n",
            "Test set classification report:\n",
            "\n",
            "               precision    recall  f1-score   support\n",
            "\n",
            "           0       0.94      1.00      0.97       154\n",
            "           1       1.00      0.70      0.82        30\n",
            "\n",
            "    accuracy                           0.95       184\n",
            "   macro avg       0.97      0.85      0.90       184\n",
            "weighted avg       0.95      0.95      0.95       184\n",
            "\n"
          ]
        }
      ],
      "source": [
        "print('\\nTest set classification report:\\n\\n',classification_report(y_test, y_test_pred ))"
      ]
    },
    {
      "cell_type": "code",
      "source": [
        "print('F Beta Score for Test Set = ',fbeta_score(y_test, y_test_pred, beta=0.5))"
      ],
      "metadata": {
        "colab": {
          "base_uri": "https://localhost:8080/"
        },
        "id": "p6vHL5ntCoD6",
        "outputId": "42e880d6-1826-46d7-e355-7b31bb5cfecf"
      },
      "execution_count": 1514,
      "outputs": [
        {
          "output_type": "stream",
          "name": "stdout",
          "text": [
            "F Beta Score for Test Set =  0.9210526315789475\n"
          ]
        }
      ]
    },
    {
      "cell_type": "markdown",
      "source": [
        "## <font color='pickle'> **Q3.2 Pipeline 2: Data Preprocessing + Manual Features + ML Model pipeline**</font>"
      ],
      "metadata": {
        "id": "Q22RBFhhEpre"
      }
    },
    {
      "cell_type": "markdown",
      "metadata": {
        "id": "SFM85emJNeUX"
      },
      "source": [
        "###<font color ='pickle'>**Preprocessing**"
      ]
    },
    {
      "cell_type": "code",
      "execution_count": 1515,
      "metadata": {
        "execution": {
          "iopub.execute_input": "2022-02-16T12:29:23.557279Z",
          "iopub.status.busy": "2022-02-16T12:29:23.557123Z",
          "iopub.status.idle": "2022-02-16T12:29:23.559874Z",
          "shell.execute_reply": "2022-02-16T12:29:23.559574Z",
          "shell.execute_reply.started": "2022-02-16T12:29:23.557264Z"
        },
        "id": "wFuM-GaLxhRR",
        "tags": []
      },
      "outputs": [],
      "source": [
        "featurizer =  ft.ManualFeatures(spacy_model='en_core_web_sm')"
      ]
    },
    {
      "cell_type": "code",
      "execution_count": 1516,
      "metadata": {
        "execution": {
          "iopub.execute_input": "2022-02-16T12:30:27.608625Z",
          "iopub.status.busy": "2022-02-16T12:30:27.608467Z",
          "iopub.status.idle": "2022-02-16T12:31:01.355575Z",
          "shell.execute_reply": "2022-02-16T12:31:01.354881Z",
          "shell.execute_reply.started": "2022-02-16T12:30:27.608598Z"
        },
        "id": "OGRU8kQPxhRR",
        "tags": []
      },
      "outputs": [],
      "source": [
        "X_train_features, feature_names  = featurizer.fit_transform(X_train)"
      ]
    },
    {
      "cell_type": "code",
      "execution_count": 1517,
      "metadata": {
        "execution": {
          "iopub.execute_input": "2022-02-16T12:31:01.357349Z",
          "iopub.status.busy": "2022-02-16T12:31:01.357127Z",
          "iopub.status.idle": "2022-02-16T12:31:01.362547Z",
          "shell.execute_reply": "2022-02-16T12:31:01.362159Z",
          "shell.execute_reply.started": "2022-02-16T12:31:01.357320Z"
        },
        "id": "C6N8pXAcxhRR",
        "outputId": "c05685f7-302c-4126-bcac-fe8b6b973718",
        "tags": [],
        "colab": {
          "base_uri": "https://localhost:8080/"
        }
      },
      "outputs": [
        {
          "output_type": "execute_result",
          "data": {
            "text/plain": [
              "array([[  2.        ,  22.        ,  19.        ,   9.5       ,\n",
              "          0.        ,   0.        ,   0.        ,   1.        ,\n",
              "          0.        ,   0.        ,   1.        ],\n",
              "       [  5.        ,  23.        ,  19.        ,   3.8       ,\n",
              "          0.        ,   0.        ,   0.        ,   3.        ,\n",
              "          0.        ,   1.        ,   0.        ],\n",
              "       [ 29.        , 139.        , 111.        ,   3.82758621,\n",
              "          1.        ,   1.        ,   1.        ,   4.        ,\n",
              "          3.        ,   4.        ,   3.        ]])"
            ]
          },
          "metadata": {},
          "execution_count": 1517
        }
      ],
      "source": [
        "X_train_features[0:3]"
      ]
    },
    {
      "cell_type": "code",
      "execution_count": 1518,
      "metadata": {
        "execution": {
          "iopub.execute_input": "2022-02-16T12:31:17.231993Z",
          "iopub.status.busy": "2022-02-16T12:31:17.231836Z",
          "iopub.status.idle": "2022-02-16T12:31:17.235203Z",
          "shell.execute_reply": "2022-02-16T12:31:17.234851Z",
          "shell.execute_reply.started": "2022-02-16T12:31:17.231979Z"
        },
        "id": "jtCQ3BkixhRR",
        "outputId": "419970df-aed1-4853-feb1-ab814cf1c1ca",
        "colab": {
          "base_uri": "https://localhost:8080/"
        }
      },
      "outputs": [
        {
          "output_type": "execute_result",
          "data": {
            "text/plain": [
              "['count_words',\n",
              " 'count_characters',\n",
              " 'count_characters_no_space',\n",
              " 'avg_word_length',\n",
              " 'count_digits',\n",
              " 'count_numbers',\n",
              " 'noun_count',\n",
              " 'aux_count',\n",
              " 'verb_count',\n",
              " 'adj_count',\n",
              " 'ner']"
            ]
          },
          "metadata": {},
          "execution_count": 1518
        }
      ],
      "source": [
        "feature_names"
      ]
    },
    {
      "cell_type": "markdown",
      "source": [
        "### <font color ='pickle'>**Create Pipeline**"
      ],
      "metadata": {
        "id": "c6lh674PEN1J"
      }
    },
    {
      "cell_type": "code",
      "execution_count": 1519,
      "metadata": {
        "execution": {
          "iopub.execute_input": "2022-02-16T12:31:27.013648Z",
          "iopub.status.busy": "2022-02-16T12:31:27.013492Z",
          "iopub.status.idle": "2022-02-16T12:31:27.016483Z",
          "shell.execute_reply": "2022-02-16T12:31:27.016106Z",
          "shell.execute_reply.started": "2022-02-16T12:31:27.013634Z"
        },
        "id": "tFYSUr9txhRR",
        "tags": []
      },
      "outputs": [],
      "source": [
        "classifier_1b = Pipeline([('classifier', LogisticRegression(max_iter = 10000)),\n",
        "                        ])"
      ]
    },
    {
      "cell_type": "markdown",
      "metadata": {
        "id": "dISATnfBxhRR"
      },
      "source": [
        "### <font color ='pickle'>**Parameter Grid**"
      ]
    },
    {
      "cell_type": "code",
      "execution_count": 1520,
      "metadata": {
        "execution": {
          "iopub.execute_input": "2022-02-16T12:31:39.899888Z",
          "iopub.status.busy": "2022-02-16T12:31:39.899747Z",
          "iopub.status.idle": "2022-02-16T12:31:39.902327Z",
          "shell.execute_reply": "2022-02-16T12:31:39.901959Z",
          "shell.execute_reply.started": "2022-02-16T12:31:39.899875Z"
        },
        "id": "QTz8sWt6xhRR",
        "tags": []
      },
      "outputs": [],
      "source": [
        "# We have used default valus for all parameters except for lammetizer\n",
        "# Ideally we can specify range of values for all parameters\n",
        "# If the search space is very large then we should use RandomSerachCV\n",
        "\n",
        "param_grid_classifier_1b = {'classifier__C': [0.01, 10, 1000, 100000]}"
      ]
    },
    {
      "cell_type": "markdown",
      "metadata": {
        "execution": {
          "iopub.execute_input": "2022-02-14T23:23:08.590947Z",
          "iopub.status.busy": "2022-02-14T23:23:08.590808Z",
          "iopub.status.idle": "2022-02-14T23:23:08.593523Z",
          "shell.execute_reply": "2022-02-14T23:23:08.593065Z",
          "shell.execute_reply.started": "2022-02-14T23:23:08.590934Z"
        },
        "id": "HYL8NrFrxhRS"
      },
      "source": [
        "###<font color ='pickle'>**Apply HalvingGridSearch**"
      ]
    },
    {
      "cell_type": "code",
      "execution_count": 1521,
      "metadata": {
        "execution": {
          "iopub.execute_input": "2022-02-16T12:31:46.350193Z",
          "iopub.status.busy": "2022-02-16T12:31:46.349854Z",
          "iopub.status.idle": "2022-02-16T12:31:46.352754Z",
          "shell.execute_reply": "2022-02-16T12:31:46.352471Z",
          "shell.execute_reply.started": "2022-02-16T12:31:46.350178Z"
        },
        "id": "s_l4mnLZxhRS",
        "tags": []
      },
      "outputs": [],
      "source": [
        "# We will now use Gridserach to find fine tune hyperparameters using cross validation\n",
        "# The advantage of using pipelines is that we can avoid data leakage\n",
        "# Since we have balanced data set, we will use default scoring method of accuracy\n",
        "# the typical value of cv used is 5. We are using 3, just for demonstration.\n",
        "\n",
        "halfgrid_classifier_1b = HalvingGridSearchCV(estimator=classifier_1b, param_grid=param_grid_classifier_1b, cv = 3, scoring=fbeta_scorer)"
      ]
    },
    {
      "cell_type": "code",
      "execution_count": 1522,
      "metadata": {
        "colab": {
          "base_uri": "https://localhost:8080/"
        },
        "execution": {
          "iopub.execute_input": "2022-02-16T12:31:47.743096Z",
          "iopub.status.busy": "2022-02-16T12:31:47.742613Z",
          "iopub.status.idle": "2022-02-16T12:31:48.494211Z",
          "shell.execute_reply": "2022-02-16T12:31:48.493924Z",
          "shell.execute_reply.started": "2022-02-16T12:31:47.743081Z"
        },
        "id": "OtnkGMYxxhRS",
        "outputId": "40e5ceef-4939-44d4-dfd9-cbcab82be01e",
        "tags": []
      },
      "outputs": [
        {
          "output_type": "execute_result",
          "data": {
            "text/plain": [
              "HalvingGridSearchCV(cv=3,\n",
              "                    estimator=Pipeline(steps=[('classifier',\n",
              "                                               LogisticRegression(max_iter=10000))]),\n",
              "                    param_grid={'classifier__C': [0.01, 10, 1000, 100000]},\n",
              "                    scoring=make_scorer(fbeta_score, beta=0.5))"
            ]
          },
          "metadata": {},
          "execution_count": 1522
        }
      ],
      "source": [
        "# Fit the model on training data\n",
        "halfgrid_classifier_1b.fit(X_train_features, y_train)"
      ]
    },
    {
      "cell_type": "markdown",
      "source": [
        "### <font color ='pickle'>**Save Model**"
      ],
      "metadata": {
        "id": "AJL305oREV-B"
      }
    },
    {
      "cell_type": "code",
      "execution_count": 1523,
      "metadata": {
        "execution": {
          "iopub.execute_input": "2022-02-16T12:32:03.508881Z",
          "iopub.status.busy": "2022-02-16T12:32:03.508367Z",
          "iopub.status.idle": "2022-02-16T12:32:03.511015Z",
          "shell.execute_reply": "2022-02-16T12:32:03.510644Z",
          "shell.execute_reply.started": "2022-02-16T12:32:03.508866Z"
        },
        "id": "zx-f7XM-xhRS",
        "tags": []
      },
      "outputs": [],
      "source": [
        "file_model_features = model_folder / 'features_model.pkl'"
      ]
    },
    {
      "cell_type": "code",
      "execution_count": 1524,
      "metadata": {
        "colab": {
          "base_uri": "https://localhost:8080/"
        },
        "execution": {
          "iopub.execute_input": "2022-02-16T12:32:05.308475Z",
          "iopub.status.busy": "2022-02-16T12:32:05.308334Z",
          "iopub.status.idle": "2022-02-16T12:32:05.312549Z",
          "shell.execute_reply": "2022-02-16T12:32:05.312150Z",
          "shell.execute_reply.started": "2022-02-16T12:32:05.308462Z"
        },
        "id": "tHY9grtAxhRS",
        "outputId": "b225e608-adea-4d36-e869-7119d7e0c7c8",
        "tags": []
      },
      "outputs": [
        {
          "output_type": "execute_result",
          "data": {
            "text/plain": [
              "['/content/drive/MyDrive/6342_NLP/models/features_model.pkl']"
            ]
          },
          "metadata": {},
          "execution_count": 1524
        }
      ],
      "source": [
        "joblib.dump(halfgrid_classifier_1b.best_estimator_, file_model_features)"
      ]
    },
    {
      "cell_type": "markdown",
      "source": [
        "### <font color ='pickle'>**Load Model**"
      ],
      "metadata": {
        "id": "M257PJxgEZk0"
      }
    },
    {
      "cell_type": "code",
      "execution_count": 1525,
      "metadata": {
        "execution": {
          "iopub.execute_input": "2022-02-16T12:32:10.718696Z",
          "iopub.status.busy": "2022-02-16T12:32:10.718552Z",
          "iopub.status.idle": "2022-02-16T12:32:10.722010Z",
          "shell.execute_reply": "2022-02-16T12:32:10.721442Z",
          "shell.execute_reply.started": "2022-02-16T12:32:10.718684Z"
        },
        "id": "Mn410ky4xhRS",
        "tags": []
      },
      "outputs": [],
      "source": [
        "# load the saved model\n",
        "loaded_final_model_features = joblib.load(file_model_features)"
      ]
    },
    {
      "cell_type": "markdown",
      "source": [
        "### <font color ='pickle'>**Plot Learning Curve**\n"
      ],
      "metadata": {
        "id": "jtb1JuyEEct2"
      }
    },
    {
      "cell_type": "code",
      "execution_count": 1526,
      "metadata": {
        "colab": {
          "base_uri": "https://localhost:8080/",
          "height": 351
        },
        "execution": {
          "iopub.execute_input": "2022-02-16T12:32:16.141496Z",
          "iopub.status.busy": "2022-02-16T12:32:16.141340Z",
          "iopub.status.idle": "2022-02-16T12:32:17.974174Z",
          "shell.execute_reply": "2022-02-16T12:32:17.973753Z",
          "shell.execute_reply.started": "2022-02-16T12:32:16.141483Z"
        },
        "id": "TOtXICLZxhRS",
        "outputId": "8cf46b1b-17fd-4a71-a75a-4e8cda947a93",
        "tags": []
      },
      "outputs": [
        {
          "output_type": "display_data",
          "data": {
            "text/plain": [
              "<Figure size 1440x360 with 3 Axes>"
            ],
            "image/png": "[encoded data removed]"
          },
          "metadata": {
            "needs_background": "light"
          }
        }
      ],
      "source": [
        "# plot learning curces\n",
        "# This cell can take upto 30 minutes to run\n",
        "plc.plot_learning_curve(loaded_final_model_features, 'Learning Curves classifier_1b', X_train_features, y_train, scoring=fbeta_scorer)\n",
        "plt.show()"
      ]
    },
    {
      "cell_type": "code",
      "execution_count": 1527,
      "metadata": {
        "colab": {
          "base_uri": "https://localhost:8080/"
        },
        "execution": {
          "iopub.execute_input": "2022-02-16T12:31:52.439776Z",
          "iopub.status.busy": "2022-02-16T12:31:52.439650Z",
          "iopub.status.idle": "2022-02-16T12:31:52.443134Z",
          "shell.execute_reply": "2022-02-16T12:31:52.442728Z",
          "shell.execute_reply.started": "2022-02-16T12:31:52.439763Z"
        },
        "id": "dIBlniBAxhRS",
        "outputId": "a5f7858a-df34-482e-c4b0-3e88e7e9b7b1",
        "tags": []
      },
      "outputs": [
        {
          "output_type": "stream",
          "name": "stdout",
          "text": [
            "Best cross-validation score: 0.96\n",
            "\n",
            "Best parameters:  {'classifier__C': 0.01}\n",
            "\n",
            "Best estimator:  Pipeline(steps=[('classifier', LogisticRegression(C=0.01, max_iter=10000))])\n"
          ]
        }
      ],
      "source": [
        "print(\"Best cross-validation score: {:.2f}\".format(halfgrid_classifier_1b.best_score_))\n",
        "print(\"\\nBest parameters: \", halfgrid_classifier_1b.best_params_)\n",
        "print(\"\\nBest estimator: \", halfgrid_classifier_1b.best_estimator_)"
      ]
    },
    {
      "cell_type": "markdown",
      "metadata": {
        "id": "L6PXdpncWZCJ"
      },
      "source": [
        "### <font color ='pickle'>**Evaluate model on test datset**"
      ]
    },
    {
      "cell_type": "code",
      "execution_count": 1528,
      "metadata": {
        "execution": {
          "iopub.execute_input": "2022-02-16T12:40:06.203542Z",
          "iopub.status.busy": "2022-02-16T12:40:06.203399Z",
          "iopub.status.idle": "2022-02-16T12:40:06.206490Z",
          "shell.execute_reply": "2022-02-16T12:40:06.206203Z",
          "shell.execute_reply.started": "2022-02-16T12:40:06.203528Z"
        },
        "tags": [],
        "id": "LMJWLivTWZCJ"
      },
      "outputs": [],
      "source": [
        "# Final Pipeline\n",
        "def final_pipeline(text):\n",
        "  #cleaned_text = cp.SpacyPreprocessor(model = 'en_core_web_sm', remove_stop=True).transform(text)\n",
        "  # cleaned_text = joblib.load(X_test_cleaned_sparse_embed)\n",
        "  X_features, feature_names  = featurizer.fit_transform(text)\n",
        "  # X_final = pd.concat((pd.DataFrame(cleaned_text, columns =['cleaned_text']), \n",
        "                          #  pd.DataFrame(X_features, columns=feature_names)),axis =1)\n",
        "  X_final = pd.DataFrame(X_features, columns=feature_names)\n",
        "  predictions = loaded_final_model_features.predict(X_final)\n",
        "  return predictions"
      ]
    },
    {
      "cell_type": "code",
      "execution_count": 1529,
      "metadata": {
        "execution": {
          "iopub.execute_input": "2022-02-16T12:40:06.207102Z",
          "iopub.status.busy": "2022-02-16T12:40:06.206981Z",
          "iopub.status.idle": "2022-02-16T12:41:01.637012Z",
          "shell.execute_reply": "2022-02-16T12:41:01.636553Z",
          "shell.execute_reply.started": "2022-02-16T12:40:06.207089Z"
        },
        "tags": [],
        "id": "9lOANmRCWZCJ"
      },
      "outputs": [],
      "source": [
        "# predicted values for Test data set\n",
        "y_test_pred = final_pipeline(X_test)"
      ]
    },
    {
      "cell_type": "markdown",
      "metadata": {
        "id": "JZ7CGyL4WZCK"
      },
      "source": [
        "### <font color ='pickle'>**Classification report for test dataset**"
      ]
    },
    {
      "cell_type": "markdown",
      "metadata": {
        "id": "2mF19J3FWZCK"
      },
      "source": [
        "* As we have already seen, our dataset is well balanced. Hence we have used accuracy as our scoring method.\n",
        "* However, it is a good idea to also look at classification report which gives precision, recall, and f1-score for both labels and average score also.\n",
        "* This metric works very well in case of balanced as well as imbalanced data because it lets you measure the performance of model for each labels."
      ]
    },
    {
      "cell_type": "code",
      "execution_count": 1530,
      "metadata": {
        "colab": {
          "base_uri": "https://localhost:8080/"
        },
        "execution": {
          "iopub.execute_input": "2022-02-16T12:42:11.389131Z",
          "iopub.status.busy": "2022-02-16T12:42:11.388727Z",
          "iopub.status.idle": "2022-02-16T12:42:11.398640Z",
          "shell.execute_reply": "2022-02-16T12:42:11.398180Z",
          "shell.execute_reply.started": "2022-02-16T12:42:11.389116Z"
        },
        "outputId": "c85d67fb-32b9-4949-b882-4397ff4da62e",
        "tags": [],
        "id": "bNG0GM-tWZCK"
      },
      "outputs": [
        {
          "output_type": "stream",
          "name": "stdout",
          "text": [
            "\n",
            "Test set classification report:\n",
            "\n",
            "               precision    recall  f1-score   support\n",
            "\n",
            "           0       0.99      0.98      0.99       154\n",
            "           1       0.91      0.97      0.94        30\n",
            "\n",
            "    accuracy                           0.98       184\n",
            "   macro avg       0.95      0.97      0.96       184\n",
            "weighted avg       0.98      0.98      0.98       184\n",
            "\n"
          ]
        }
      ],
      "source": [
        "print('\\nTest set classification report:\\n\\n',classification_report(y_test, y_test_pred ))"
      ]
    },
    {
      "cell_type": "code",
      "source": [
        "print('F Beta Score for Test Set = ',fbeta_score(y_test, y_test_pred, beta=0.5))"
      ],
      "metadata": {
        "colab": {
          "base_uri": "https://localhost:8080/"
        },
        "outputId": "556edff1-4116-4142-a554-dad0b68fead7",
        "id": "Fx0zp5VLWZCK"
      },
      "execution_count": 1531,
      "outputs": [
        {
          "output_type": "stream",
          "name": "stdout",
          "text": [
            "F Beta Score for Test Set =  0.9177215189873417\n"
          ]
        }
      ]
    },
    {
      "cell_type": "markdown",
      "metadata": {
        "execution": {
          "iopub.execute_input": "2022-02-15T23:23:28.709458Z",
          "iopub.status.busy": "2022-02-15T23:23:28.709276Z",
          "iopub.status.idle": "2022-02-15T23:23:28.711931Z",
          "shell.execute_reply": "2022-02-15T23:23:28.711569Z",
          "shell.execute_reply.started": "2022-02-15T23:23:28.709443Z"
        },
        "id": "0AgjsJ6NxhRT"
      },
      "source": [
        "## <font color ='pickle'>**Q3.3 Pipeline 3: Combine Manual Features and TfID vectors + ML Model**"
      ]
    },
    {
      "cell_type": "markdown",
      "source": [
        "### <font color ='pickle'>**Combine Manual Features and tfidf features**\n",
        "\n",
        "<font color ='indianred'>**The approach described in this section is generic and can be used to combine any text (e.g. embeddings generated from text data) with non-text related variables**."
      ],
      "metadata": {
        "id": "0gbZA8neIIWM"
      }
    },
    {
      "cell_type": "code",
      "execution_count": 1532,
      "metadata": {
        "execution": {
          "iopub.execute_input": "2022-02-16T12:35:11.430371Z",
          "iopub.status.busy": "2022-02-16T12:35:11.428776Z",
          "iopub.status.idle": "2022-02-16T12:35:11.436956Z",
          "shell.execute_reply": "2022-02-16T12:35:11.436558Z",
          "shell.execute_reply.started": "2022-02-16T12:35:11.430339Z"
        },
        "id": "X7w3mxy6xhRT",
        "tags": []
      },
      "outputs": [],
      "source": [
        "X_train_final = pd.concat((pd.DataFrame(X_train_cleaned, columns =['cleaned_text']), \n",
        "                           pd.DataFrame(X_train_features, columns=feature_names)),axis =1)"
      ]
    },
    {
      "cell_type": "code",
      "execution_count": 1533,
      "metadata": {
        "execution": {
          "iopub.execute_input": "2022-02-16T12:35:11.437698Z",
          "iopub.status.busy": "2022-02-16T12:35:11.437552Z",
          "iopub.status.idle": "2022-02-16T12:35:11.450031Z",
          "shell.execute_reply": "2022-02-16T12:35:11.449680Z",
          "shell.execute_reply.started": "2022-02-16T12:35:11.437669Z"
        },
        "id": "8W1a77B2xhRT",
        "outputId": "592b487e-1886-4dc4-ae7e-df4f56bde2cc",
        "tags": [],
        "colab": {
          "base_uri": "https://localhost:8080/",
          "height": 285
        }
      },
      "outputs": [
        {
          "output_type": "execute_result",
          "data": {
            "text/plain": [
              "                                        cleaned_text  count_words  \\\n",
              "0                             s:)s.nervous   lt;#&gt          2.0   \n",
              "1                               got mail panren paru          5.0   \n",
              "2  say right giggle see u possibly person2die nvq...         29.0   \n",
              "3                                haha awesome minute          7.0   \n",
              "4              printer cool mean groovy wine groovye          9.0   \n",
              "\n",
              "   count_characters  count_characters_no_space  avg_word_length  count_digits  \\\n",
              "0              22.0                       19.0         9.500000           0.0   \n",
              "1              23.0                       19.0         3.800000           0.0   \n",
              "2             139.0                      111.0         3.827586           1.0   \n",
              "3              33.0                       27.0         3.857143           0.0   \n",
              "4              47.0                       39.0         4.333333           0.0   \n",
              "\n",
              "   count_numbers  noun_count  aux_count  verb_count  adj_count  ner  \n",
              "0            0.0         0.0        1.0         0.0        0.0  1.0  \n",
              "1            0.0         0.0        3.0         0.0        1.0  0.0  \n",
              "2            1.0         1.0        4.0         3.0        4.0  3.0  \n",
              "3            0.0         0.0        1.0         1.0        0.0  0.0  \n",
              "4            0.0         0.0        3.0         2.0        2.0  1.0  "
            ],
            "text/html": [
              "\n",
              "  <div id=\"df-b93b36a0-7f59-4ea2-af21-52e6dae5f421\">\n",
              "    <div class=\"colab-df-container\">\n",
              "      <div>\n",
              "<style scoped>\n",
              "    .dataframe tbody tr th:only-of-type {\n",
              "        vertical-align: middle;\n",
              "    }\n",
              "\n",
              "    .dataframe tbody tr th {\n",
              "        vertical-align: top;\n",
              "    }\n",
              "\n",
              "    .dataframe thead th {\n",
              "        text-align: right;\n",
              "    }\n",
              "</style>\n",
              "<table border=\"1\" class=\"dataframe\">\n",
              "  <thead>\n",
              "    <tr style=\"text-align: right;\">\n",
              "      <th></th>\n",
              "      <th>cleaned_text</th>\n",
              "      <th>count_words</th>\n",
              "      <th>count_characters</th>\n",
              "      <th>count_characters_no_space</th>\n",
              "      <th>avg_word_length</th>\n",
              "      <th>count_digits</th>\n",
              "      <th>count_numbers</th>\n",
              "      <th>noun_count</th>\n",
              "      <th>aux_count</th>\n",
              "      <th>verb_count</th>\n",
              "      <th>adj_count</th>\n",
              "      <th>ner</th>\n",
              "    </tr>\n",
              "  </thead>\n",
              "  <tbody>\n",
              "    <tr>\n",
              "      <th>0</th>\n",
              "      <td>s:)s.nervous   lt;#&amp;gt</td>\n",
              "      <td>2.0</td>\n",
              "      <td>22.0</td>\n",
              "      <td>19.0</td>\n",
              "      <td>9.500000</td>\n",
              "      <td>0.0</td>\n",
              "      <td>0.0</td>\n",
              "      <td>0.0</td>\n",
              "      <td>1.0</td>\n",
              "      <td>0.0</td>\n",
              "      <td>0.0</td>\n",
              "      <td>1.0</td>\n",
              "    </tr>\n",
              "    <tr>\n",
              "      <th>1</th>\n",
              "      <td>got mail panren paru</td>\n",
              "      <td>5.0</td>\n",
              "      <td>23.0</td>\n",
              "      <td>19.0</td>\n",
              "      <td>3.800000</td>\n",
              "      <td>0.0</td>\n",
              "      <td>0.0</td>\n",
              "      <td>0.0</td>\n",
              "      <td>3.0</td>\n",
              "      <td>0.0</td>\n",
              "      <td>1.0</td>\n",
              "      <td>0.0</td>\n",
              "    </tr>\n",
              "    <tr>\n",
              "      <th>2</th>\n",
              "      <td>say right giggle see u possibly person2die nvq...</td>\n",
              "      <td>29.0</td>\n",
              "      <td>139.0</td>\n",
              "      <td>111.0</td>\n",
              "      <td>3.827586</td>\n",
              "      <td>1.0</td>\n",
              "      <td>1.0</td>\n",
              "      <td>1.0</td>\n",
              "      <td>4.0</td>\n",
              "      <td>3.0</td>\n",
              "      <td>4.0</td>\n",
              "      <td>3.0</td>\n",
              "    </tr>\n",
              "    <tr>\n",
              "      <th>3</th>\n",
              "      <td>haha awesome minute</td>\n",
              "      <td>7.0</td>\n",
              "      <td>33.0</td>\n",
              "      <td>27.0</td>\n",
              "      <td>3.857143</td>\n",
              "      <td>0.0</td>\n",
              "      <td>0.0</td>\n",
              "      <td>0.0</td>\n",
              "      <td>1.0</td>\n",
              "      <td>1.0</td>\n",
              "      <td>0.0</td>\n",
              "      <td>0.0</td>\n",
              "    </tr>\n",
              "    <tr>\n",
              "      <th>4</th>\n",
              "      <td>printer cool mean groovy wine groovye</td>\n",
              "      <td>9.0</td>\n",
              "      <td>47.0</td>\n",
              "      <td>39.0</td>\n",
              "      <td>4.333333</td>\n",
              "      <td>0.0</td>\n",
              "      <td>0.0</td>\n",
              "      <td>0.0</td>\n",
              "      <td>3.0</td>\n",
              "      <td>2.0</td>\n",
              "      <td>2.0</td>\n",
              "      <td>1.0</td>\n",
              "    </tr>\n",
              "  </tbody>\n",
              "</table>\n",
              "</div>\n",
              "      <button class=\"colab-df-convert\" onclick=\"convertToInteractive('df-b93b36a0-7f59-4ea2-af21-52e6dae5f421')\"\n",
              "              title=\"Convert this dataframe to an interactive table.\"\n",
              "              style=\"display:none;\">\n",
              "        \n",
              "  <svg xmlns=\"http://www.w3.org/2000/svg\" height=\"24px\"viewBox=\"0 0 24 24\"\n",
              "       width=\"24px\">\n",
              "    <path d=\"M0 0h24v24H0V0z\" fill=\"none\"/>\n",
              "    <path d=\"M18.56 5.44l.94 2.06.94-2.06 2.06-.94-2.06-.94-.94-2.06-.94 2.06-2.06.94zm-11 1L8.5 8.5l.94-2.06 2.06-.94-2.06-.94L8.5 2.5l-.94 2.06-2.06.94zm10 10l.94 2.06.94-2.06 2.06-.94-2.06-.94-.94-2.06-.94 2.06-2.06.94z\"/><path d=\"M17.41 7.96l-1.37-1.37c-.4-.4-.92-.59-1.43-.59-.52 0-1.04.2-1.43.59L10.3 9.45l-7.72 7.72c-.78.78-.78 2.05 0 2.83L4 21.41c.39.39.9.59 1.41.59.51 0 1.02-.2 1.41-.59l7.78-7.78 2.81-2.81c.8-.78.8-2.07 0-2.86zM5.41 20L4 18.59l7.72-7.72 1.47 1.35L5.41 20z\"/>\n",
              "  </svg>\n",
              "      </button>\n",
              "      \n",
              "  <style>\n",
              "    .colab-df-container {\n",
              "      display:flex;\n",
              "      flex-wrap:wrap;\n",
              "      gap: 12px;\n",
              "    }\n",
              "\n",
              "    .colab-df-convert {\n",
              "      background-color: #E8F0FE;\n",
              "      border: none;\n",
              "      border-radius: 50%;\n",
              "      cursor: pointer;\n",
              "      display: none;\n",
              "      fill: #1967D2;\n",
              "      height: 32px;\n",
              "      padding: 0 0 0 0;\n",
              "      width: 32px;\n",
              "    }\n",
              "\n",
              "    .colab-df-convert:hover {\n",
              "      background-color: #E2EBFA;\n",
              "      box-shadow: 0px 1px 2px rgba(60, 64, 67, 0.3), 0px 1px 3px 1px rgba(60, 64, 67, 0.15);\n",
              "      fill: #174EA6;\n",
              "    }\n",
              "\n",
              "    [theme=dark] .colab-df-convert {\n",
              "      background-color: #3B4455;\n",
              "      fill: #D2E3FC;\n",
              "    }\n",
              "\n",
              "    [theme=dark] .colab-df-convert:hover {\n",
              "      background-color: #434B5C;\n",
              "      box-shadow: 0px 1px 3px 1px rgba(0, 0, 0, 0.15);\n",
              "      filter: drop-shadow(0px 1px 2px rgba(0, 0, 0, 0.3));\n",
              "      fill: #FFFFFF;\n",
              "    }\n",
              "  </style>\n",
              "\n",
              "      <script>\n",
              "        const buttonEl =\n",
              "          document.querySelector('#df-b93b36a0-7f59-4ea2-af21-52e6dae5f421 button.colab-df-convert');\n",
              "        buttonEl.style.display =\n",
              "          google.colab.kernel.accessAllowed ? 'block' : 'none';\n",
              "\n",
              "        async function convertToInteractive(key) {\n",
              "          const element = document.querySelector('#df-b93b36a0-7f59-4ea2-af21-52e6dae5f421');\n",
              "          const dataTable =\n",
              "            await google.colab.kernel.invokeFunction('convertToInteractive',\n",
              "                                                     [key], {});\n",
              "          if (!dataTable) return;\n",
              "\n",
              "          const docLinkHtml = 'Like what you see? Visit the ' +\n",
              "            '<a target=\"_blank\" href=https://colab.research.google.com/notebooks/data_table.ipynb>data table notebook</a>'\n",
              "            + ' to learn more about interactive tables.';\n",
              "          element.innerHTML = '';\n",
              "          dataTable['output_type'] = 'display_data';\n",
              "          await google.colab.output.renderOutput(dataTable, element);\n",
              "          const docLink = document.createElement('div');\n",
              "          docLink.innerHTML = docLinkHtml;\n",
              "          element.appendChild(docLink);\n",
              "        }\n",
              "      </script>\n",
              "    </div>\n",
              "  </div>\n",
              "  "
            ]
          },
          "metadata": {},
          "execution_count": 1533
        }
      ],
      "source": [
        "X_train_final.head()"
      ]
    },
    {
      "cell_type": "code",
      "execution_count": 1534,
      "metadata": {
        "execution": {
          "iopub.execute_input": "2022-02-16T12:35:34.325961Z",
          "iopub.status.busy": "2022-02-16T12:35:34.325751Z",
          "iopub.status.idle": "2022-02-16T12:35:34.334537Z",
          "shell.execute_reply": "2022-02-16T12:35:34.334192Z",
          "shell.execute_reply.started": "2022-02-16T12:35:34.325929Z"
        },
        "id": "l4CNYRw7xhRU",
        "outputId": "22c9d66a-4979-4e83-c47c-cd96657d3317",
        "tags": [],
        "colab": {
          "base_uri": "https://localhost:8080/"
        }
      },
      "outputs": [
        {
          "output_type": "stream",
          "name": "stdout",
          "text": [
            "<class 'pandas.core.frame.DataFrame'>\n",
            "RangeIndex: 373 entries, 0 to 372\n",
            "Data columns (total 12 columns):\n",
            " #   Column                     Non-Null Count  Dtype  \n",
            "---  ------                     --------------  -----  \n",
            " 0   cleaned_text               373 non-null    object \n",
            " 1   count_words                373 non-null    float64\n",
            " 2   count_characters           373 non-null    float64\n",
            " 3   count_characters_no_space  373 non-null    float64\n",
            " 4   avg_word_length            373 non-null    float64\n",
            " 5   count_digits               373 non-null    float64\n",
            " 6   count_numbers              373 non-null    float64\n",
            " 7   noun_count                 373 non-null    float64\n",
            " 8   aux_count                  373 non-null    float64\n",
            " 9   verb_count                 373 non-null    float64\n",
            " 10  adj_count                  373 non-null    float64\n",
            " 11  ner                        373 non-null    float64\n",
            "dtypes: float64(11), object(1)\n",
            "memory usage: 35.1+ KB\n"
          ]
        }
      ],
      "source": [
        "X_train_final.info()"
      ]
    },
    {
      "cell_type": "code",
      "execution_count": 1535,
      "metadata": {
        "execution": {
          "iopub.execute_input": "2022-02-16T12:35:39.140082Z",
          "iopub.status.busy": "2022-02-16T12:35:39.139677Z",
          "iopub.status.idle": "2022-02-16T12:35:39.142194Z",
          "shell.execute_reply": "2022-02-16T12:35:39.141823Z",
          "shell.execute_reply.started": "2022-02-16T12:35:39.140066Z"
        },
        "id": "sXdMTxgOxhRU",
        "tags": []
      },
      "outputs": [],
      "source": [
        "subset = X_train_final[0:30]"
      ]
    },
    {
      "cell_type": "code",
      "execution_count": 1536,
      "metadata": {
        "execution": {
          "iopub.execute_input": "2022-02-16T12:35:39.819792Z",
          "iopub.status.busy": "2022-02-16T12:35:39.819667Z",
          "iopub.status.idle": "2022-02-16T12:35:39.822815Z",
          "shell.execute_reply": "2022-02-16T12:35:39.822358Z",
          "shell.execute_reply.started": "2022-02-16T12:35:39.819779Z"
        },
        "id": "F_Ym5vRGxhRU",
        "outputId": "3f4a624d-e751-433e-8bd2-38be7ac9138b",
        "tags": [],
        "colab": {
          "base_uri": "https://localhost:8080/"
        }
      },
      "outputs": [
        {
          "output_type": "execute_result",
          "data": {
            "text/plain": [
              "(30, 12)"
            ]
          },
          "metadata": {},
          "execution_count": 1536
        }
      ],
      "source": [
        "subset.shape"
      ]
    },
    {
      "cell_type": "code",
      "execution_count": 1537,
      "metadata": {
        "execution": {
          "iopub.execute_input": "2022-02-16T12:36:09.987762Z",
          "iopub.status.busy": "2022-02-16T12:36:09.987620Z",
          "iopub.status.idle": "2022-02-16T12:36:09.992278Z",
          "shell.execute_reply": "2022-02-16T12:36:09.991933Z",
          "shell.execute_reply.started": "2022-02-16T12:36:09.987750Z"
        },
        "id": "AeihIMXhxhRU",
        "tags": []
      },
      "outputs": [],
      "source": [
        "from sklearn.base import TransformerMixin, BaseEstimator\n",
        "from scipy.sparse import csr_matrix\n",
        "class SparseTransformer(TransformerMixin, BaseEstimator):\n",
        "    \n",
        "  def __init__(self):\n",
        "    return None\n",
        "\n",
        "  def fit(self, X, y=None):\n",
        "      return self\n",
        "\n",
        "  def transform(self, X, y=None):\n",
        "      return csr_matrix(X)\n",
        " "
      ]
    },
    {
      "cell_type": "code",
      "execution_count": 1538,
      "metadata": {
        "execution": {
          "iopub.execute_input": "2022-02-16T12:36:20.891515Z",
          "iopub.status.busy": "2022-02-16T12:36:20.891376Z",
          "iopub.status.idle": "2022-02-16T12:36:20.894129Z",
          "shell.execute_reply": "2022-02-16T12:36:20.893660Z",
          "shell.execute_reply.started": "2022-02-16T12:36:20.891503Z"
        },
        "id": "vHXIXeW7xhRU",
        "tags": []
      },
      "outputs": [],
      "source": [
        "sparse_features = Pipeline([('sparse', SparseTransformer()),                     \n",
        "                        ]) \n",
        "vectorizer = Pipeline([('tfidf', TfidfVectorizer(max_features=5)),                     \n",
        "                        ]) "
      ]
    },
    {
      "cell_type": "code",
      "execution_count": 1539,
      "metadata": {
        "execution": {
          "iopub.execute_input": "2022-02-16T12:36:23.216440Z",
          "iopub.status.busy": "2022-02-16T12:36:23.216297Z",
          "iopub.status.idle": "2022-02-16T12:36:23.220408Z",
          "shell.execute_reply": "2022-02-16T12:36:23.220069Z",
          "shell.execute_reply.started": "2022-02-16T12:36:23.216427Z"
        },
        "id": "IPVOS1qIxhRU",
        "outputId": "bae12068-a68e-49ce-dc11-e9117567e20d",
        "tags": [],
        "colab": {
          "base_uri": "https://localhost:8080/"
        }
      },
      "outputs": [
        {
          "output_type": "execute_result",
          "data": {
            "text/plain": [
              "<30x11 sparse matrix of type '<class 'numpy.float64'>'\n",
              "\twith 240 stored elements in Compressed Sparse Row format>"
            ]
          },
          "metadata": {},
          "execution_count": 1539
        }
      ],
      "source": [
        "sparse_features.fit_transform(subset.iloc[:,1:])"
      ]
    },
    {
      "cell_type": "code",
      "execution_count": 1540,
      "metadata": {
        "execution": {
          "iopub.execute_input": "2022-02-16T12:36:25.751644Z",
          "iopub.status.busy": "2022-02-16T12:36:25.751494Z",
          "iopub.status.idle": "2022-02-16T12:36:25.758415Z",
          "shell.execute_reply": "2022-02-16T12:36:25.758046Z",
          "shell.execute_reply.started": "2022-02-16T12:36:25.751631Z"
        },
        "id": "GWbCpRIqxhRU",
        "outputId": "cbd3fc7c-d6e8-478b-b4f4-3b8b99009f74",
        "tags": [],
        "colab": {
          "base_uri": "https://localhost:8080/"
        }
      },
      "outputs": [
        {
          "output_type": "execute_result",
          "data": {
            "text/plain": [
              "<30x5 sparse matrix of type '<class 'numpy.float64'>'\n",
              "\twith 16 stored elements in Compressed Sparse Row format>"
            ]
          },
          "metadata": {},
          "execution_count": 1540
        }
      ],
      "source": [
        "vectorizer.fit_transform(subset.iloc[:,0])"
      ]
    },
    {
      "cell_type": "code",
      "execution_count": 1541,
      "metadata": {
        "execution": {
          "iopub.execute_input": "2022-02-16T12:36:40.573676Z",
          "iopub.status.busy": "2022-02-16T12:36:40.573520Z",
          "iopub.status.idle": "2022-02-16T12:36:40.576128Z",
          "shell.execute_reply": "2022-02-16T12:36:40.575750Z",
          "shell.execute_reply.started": "2022-02-16T12:36:40.573663Z"
        },
        "id": "H2Odh0u8xhRU",
        "tags": []
      },
      "outputs": [],
      "source": [
        "combined_features = ColumnTransformer(\n",
        " transformers=[\n",
        "     ('tfidf', vectorizer, 'cleaned_text'),\n",
        "      ], remainder=sparse_features\n",
        "     )"
      ]
    },
    {
      "cell_type": "code",
      "execution_count": 1542,
      "metadata": {
        "execution": {
          "iopub.execute_input": "2022-02-16T12:36:42.822241Z",
          "iopub.status.busy": "2022-02-16T12:36:42.822087Z",
          "iopub.status.idle": "2022-02-16T12:36:42.828916Z",
          "shell.execute_reply": "2022-02-16T12:36:42.828650Z",
          "shell.execute_reply.started": "2022-02-16T12:36:42.822229Z"
        },
        "id": "uyqJW4-sxhRV",
        "tags": []
      },
      "outputs": [],
      "source": [
        "test = combined_features.fit_transform(subset)"
      ]
    },
    {
      "cell_type": "code",
      "execution_count": 1543,
      "metadata": {
        "execution": {
          "iopub.execute_input": "2022-02-16T12:36:43.514612Z",
          "iopub.status.busy": "2022-02-16T12:36:43.514485Z",
          "iopub.status.idle": "2022-02-16T12:36:43.517888Z",
          "shell.execute_reply": "2022-02-16T12:36:43.517629Z",
          "shell.execute_reply.started": "2022-02-16T12:36:43.514598Z"
        },
        "id": "L883QbcixhRV",
        "outputId": "e9e4bb64-377d-4c9d-85f1-2ccdd2f2c695",
        "tags": [],
        "colab": {
          "base_uri": "https://localhost:8080/"
        }
      },
      "outputs": [
        {
          "output_type": "execute_result",
          "data": {
            "text/plain": [
              "dtype('float64')"
            ]
          },
          "metadata": {},
          "execution_count": 1543
        }
      ],
      "source": [
        "test.dtype"
      ]
    },
    {
      "cell_type": "markdown",
      "metadata": {
        "id": "Z_D2vt1ZxhRV"
      },
      "source": [
        "###<font color ='pickle'>**Create Final Pipeline**"
      ]
    },
    {
      "cell_type": "code",
      "execution_count": 1544,
      "metadata": {
        "execution": {
          "iopub.execute_input": "2022-02-16T12:36:51.450580Z",
          "iopub.status.busy": "2022-02-16T12:36:51.450409Z",
          "iopub.status.idle": "2022-02-16T12:36:51.453041Z",
          "shell.execute_reply": "2022-02-16T12:36:51.452706Z",
          "shell.execute_reply.started": "2022-02-16T12:36:51.450554Z"
        },
        "id": "ASyHfuHCxhRV",
        "tags": []
      },
      "outputs": [],
      "source": [
        "classifier_1c = Pipeline([('combined_features',  combined_features),\n",
        "                         ('classifier', LogisticRegression(max_iter = 10000)),\n",
        "                        ])"
      ]
    },
    {
      "cell_type": "code",
      "execution_count": 1545,
      "metadata": {
        "execution": {
          "iopub.execute_input": "2022-02-16T12:36:57.180203Z",
          "iopub.status.busy": "2022-02-16T12:36:57.180060Z",
          "iopub.status.idle": "2022-02-16T12:36:57.184183Z",
          "shell.execute_reply": "2022-02-16T12:36:57.183831Z",
          "shell.execute_reply.started": "2022-02-16T12:36:57.180190Z"
        },
        "id": "xb6EjEvvxhRV",
        "outputId": "23877dc8-a3f1-46d1-81d3-2fb58d84f003",
        "tags": [],
        "colab": {
          "base_uri": "https://localhost:8080/"
        }
      },
      "outputs": [
        {
          "output_type": "execute_result",
          "data": {
            "text/plain": [
              "dict_keys(['memory', 'steps', 'verbose', 'combined_features', 'classifier', 'combined_features__n_jobs', 'combined_features__remainder__memory', 'combined_features__remainder__steps', 'combined_features__remainder__verbose', 'combined_features__remainder__sparse', 'combined_features__remainder', 'combined_features__sparse_threshold', 'combined_features__transformer_weights', 'combined_features__transformers', 'combined_features__verbose', 'combined_features__verbose_feature_names_out', 'combined_features__tfidf', 'combined_features__tfidf__memory', 'combined_features__tfidf__steps', 'combined_features__tfidf__verbose', 'combined_features__tfidf__tfidf', 'combined_features__tfidf__tfidf__analyzer', 'combined_features__tfidf__tfidf__binary', 'combined_features__tfidf__tfidf__decode_error', 'combined_features__tfidf__tfidf__dtype', 'combined_features__tfidf__tfidf__encoding', 'combined_features__tfidf__tfidf__input', 'combined_features__tfidf__tfidf__lowercase', 'combined_features__tfidf__tfidf__max_df', 'combined_features__tfidf__tfidf__max_features', 'combined_features__tfidf__tfidf__min_df', 'combined_features__tfidf__tfidf__ngram_range', 'combined_features__tfidf__tfidf__norm', 'combined_features__tfidf__tfidf__preprocessor', 'combined_features__tfidf__tfidf__smooth_idf', 'combined_features__tfidf__tfidf__stop_words', 'combined_features__tfidf__tfidf__strip_accents', 'combined_features__tfidf__tfidf__sublinear_tf', 'combined_features__tfidf__tfidf__token_pattern', 'combined_features__tfidf__tfidf__tokenizer', 'combined_features__tfidf__tfidf__use_idf', 'combined_features__tfidf__tfidf__vocabulary', 'classifier__C', 'classifier__class_weight', 'classifier__dual', 'classifier__fit_intercept', 'classifier__intercept_scaling', 'classifier__l1_ratio', 'classifier__max_iter', 'classifier__multi_class', 'classifier__n_jobs', 'classifier__penalty', 'classifier__random_state', 'classifier__solver', 'classifier__tol', 'classifier__verbose', 'classifier__warm_start'])"
            ]
          },
          "metadata": {},
          "execution_count": 1545
        }
      ],
      "source": [
        "classifier_1c.get_params().keys()"
      ]
    },
    {
      "cell_type": "markdown",
      "metadata": {
        "id": "pZzGjs1SxhRV"
      },
      "source": [
        "### <font color ='pickle'>**Parameter Grid**"
      ]
    },
    {
      "cell_type": "code",
      "execution_count": 1546,
      "metadata": {
        "execution": {
          "iopub.execute_input": "2022-02-16T12:37:14.911811Z",
          "iopub.status.busy": "2022-02-16T12:37:14.911348Z",
          "iopub.status.idle": "2022-02-16T12:37:14.914079Z",
          "shell.execute_reply": "2022-02-16T12:37:14.913746Z",
          "shell.execute_reply.started": "2022-02-16T12:37:14.911796Z"
        },
        "id": "lVu2xd8PxhRV",
        "tags": []
      },
      "outputs": [],
      "source": [
        "# We are exploring a small combination of parameters\n",
        "# If the search space is very large then we should use RandomSerachCV\n",
        "\n",
        "param_grid_classifier_1c = {'combined_features__tfidf__tfidf__max_features': [500, 1000, 2000],\n",
        "                            'classifier__C': [0.1, 1, 10, 1000, 100000]}"
      ]
    },
    {
      "cell_type": "markdown",
      "metadata": {
        "execution": {
          "iopub.execute_input": "2022-02-14T23:23:08.590947Z",
          "iopub.status.busy": "2022-02-14T23:23:08.590808Z",
          "iopub.status.idle": "2022-02-14T23:23:08.593523Z",
          "shell.execute_reply": "2022-02-14T23:23:08.593065Z",
          "shell.execute_reply.started": "2022-02-14T23:23:08.590934Z"
        },
        "id": "TL8Rg-bfxhRV"
      },
      "source": [
        "### <font color ='pickle'>**Apply HalvingGridSearch**"
      ]
    },
    {
      "cell_type": "code",
      "execution_count": 1547,
      "metadata": {
        "execution": {
          "iopub.execute_input": "2022-02-16T12:37:19.741065Z",
          "iopub.status.busy": "2022-02-16T12:37:19.740922Z",
          "iopub.status.idle": "2022-02-16T12:37:19.743866Z",
          "shell.execute_reply": "2022-02-16T12:37:19.743469Z",
          "shell.execute_reply.started": "2022-02-16T12:37:19.741053Z"
        },
        "id": "24HEVBVkxhRW",
        "tags": []
      },
      "outputs": [],
      "source": [
        "# We will now use Gridserach to find fine tune hyperparameters using cross validation\n",
        "# The advantage of using pipelines is that we can avoid data leakage\n",
        "# Since we have balanced data set, we will use default scoring method of accuracy\n",
        "# the typical value of cv used is 5. We are using 3, just for demonstration.\n",
        "\n",
        "halfgrid_classifier_1c = HalvingGridSearchCV(estimator=classifier_1c, param_grid=param_grid_classifier_1c, cv = 5, scoring=fbeta_scorer)"
      ]
    },
    {
      "cell_type": "code",
      "execution_count": 1548,
      "metadata": {
        "colab": {
          "base_uri": "https://localhost:8080/"
        },
        "execution": {
          "iopub.execute_input": "2022-02-16T12:37:30.346423Z",
          "iopub.status.busy": "2022-02-16T12:37:30.346278Z",
          "iopub.status.idle": "2022-02-16T12:38:07.206283Z",
          "shell.execute_reply": "2022-02-16T12:38:07.205848Z",
          "shell.execute_reply.started": "2022-02-16T12:37:30.346410Z"
        },
        "id": "naxAORIHxhRW",
        "outputId": "fe5e1dab-beda-4507-e387-29a64002d24a",
        "tags": []
      },
      "outputs": [
        {
          "output_type": "execute_result",
          "data": {
            "text/plain": [
              "HalvingGridSearchCV(estimator=Pipeline(steps=[('combined_features',\n",
              "                                               ColumnTransformer(remainder=Pipeline(steps=[('sparse',\n",
              "                                                                                            SparseTransformer())]),\n",
              "                                                                 transformers=[('tfidf',\n",
              "                                                                                Pipeline(steps=[('tfidf',\n",
              "                                                                                                 TfidfVectorizer(max_features=5))]),\n",
              "                                                                                'cleaned_text')])),\n",
              "                                              ('classifier',\n",
              "                                               LogisticRegression(max_iter=10000))]),\n",
              "                    param_grid={'classifier__C': [0.1, 1, 10, 1000, 100000],\n",
              "                                'combined_features__tfidf__tfidf__max_features': [500,\n",
              "                                                                                  1000,\n",
              "                                                                                  2000]},\n",
              "                    scoring=make_scorer(fbeta_score, beta=0.5))"
            ]
          },
          "metadata": {},
          "execution_count": 1548
        }
      ],
      "source": [
        "# Fit the model on training data\n",
        "halfgrid_classifier_1c.fit(X_train_final, y_train)"
      ]
    },
    {
      "cell_type": "code",
      "execution_count": 1549,
      "metadata": {
        "colab": {
          "base_uri": "https://localhost:8080/"
        },
        "execution": {
          "iopub.execute_input": "2022-02-16T12:38:17.884695Z",
          "iopub.status.busy": "2022-02-16T12:38:17.884564Z",
          "iopub.status.idle": "2022-02-16T12:38:17.895740Z",
          "shell.execute_reply": "2022-02-16T12:38:17.895333Z",
          "shell.execute_reply.started": "2022-02-16T12:38:17.884681Z"
        },
        "id": "oN5U80hExhRW",
        "outputId": "e7c39088-cf9a-4bd9-cde2-7ab44fd5ae08",
        "tags": []
      },
      "outputs": [
        {
          "output_type": "stream",
          "name": "stdout",
          "text": [
            "Best cross-validation score: 0.93\n",
            "\n",
            "Best parameters:  {'classifier__C': 1000, 'combined_features__tfidf__tfidf__max_features': 1000}\n",
            "\n",
            "Best estimator:  Pipeline(steps=[('combined_features',\n",
            "                 ColumnTransformer(remainder=Pipeline(steps=[('sparse',\n",
            "                                                              SparseTransformer())]),\n",
            "                                   transformers=[('tfidf',\n",
            "                                                  Pipeline(steps=[('tfidf',\n",
            "                                                                   TfidfVectorizer(max_features=1000))]),\n",
            "                                                  'cleaned_text')])),\n",
            "                ('classifier', LogisticRegression(C=1000, max_iter=10000))])\n"
          ]
        }
      ],
      "source": [
        "print(\"Best cross-validation score: {:.2f}\".format(halfgrid_classifier_1c.best_score_))\n",
        "print(\"\\nBest parameters: \", halfgrid_classifier_1c.best_params_)\n",
        "print(\"\\nBest estimator: \", halfgrid_classifier_1c.best_estimator_)"
      ]
    },
    {
      "cell_type": "markdown",
      "source": [
        "### <font color ='pickle'>**Save Model**"
      ],
      "metadata": {
        "id": "RFdc84aHhp8_"
      }
    },
    {
      "cell_type": "code",
      "execution_count": 1550,
      "metadata": {
        "execution": {
          "iopub.execute_input": "2022-02-16T12:38:23.762262Z",
          "iopub.status.busy": "2022-02-16T12:38:23.762092Z",
          "iopub.status.idle": "2022-02-16T12:38:23.764913Z",
          "shell.execute_reply": "2022-02-16T12:38:23.764534Z",
          "shell.execute_reply.started": "2022-02-16T12:38:23.762244Z"
        },
        "id": "TU20jOH3xhRW",
        "tags": []
      },
      "outputs": [],
      "source": [
        "file_model_combined = model_folder / 'combined_model.pkl'"
      ]
    },
    {
      "cell_type": "code",
      "execution_count": 1551,
      "metadata": {
        "colab": {
          "base_uri": "https://localhost:8080/"
        },
        "execution": {
          "iopub.execute_input": "2022-02-16T12:38:24.903232Z",
          "iopub.status.busy": "2022-02-16T12:38:24.903063Z",
          "iopub.status.idle": "2022-02-16T12:38:24.976700Z",
          "shell.execute_reply": "2022-02-16T12:38:24.976222Z",
          "shell.execute_reply.started": "2022-02-16T12:38:24.903213Z"
        },
        "id": "GCg1zPnbxhRX",
        "outputId": "07f3f24b-9f40-46a0-918e-71da35eefc9d",
        "tags": []
      },
      "outputs": [
        {
          "output_type": "execute_result",
          "data": {
            "text/plain": [
              "['/content/drive/MyDrive/6342_NLP/models/combined_model.pkl']"
            ]
          },
          "metadata": {},
          "execution_count": 1551
        }
      ],
      "source": [
        "joblib.dump(halfgrid_classifier_1c.best_estimator_, file_model_combined)"
      ]
    },
    {
      "cell_type": "markdown",
      "source": [
        "### <font color ='pickle'>**Load Model**"
      ],
      "metadata": {
        "id": "TH8tgR9AhwfJ"
      }
    },
    {
      "cell_type": "code",
      "execution_count": 1552,
      "metadata": {
        "execution": {
          "iopub.execute_input": "2022-02-16T12:38:33.919777Z",
          "iopub.status.busy": "2022-02-16T12:38:33.919624Z",
          "iopub.status.idle": "2022-02-16T12:38:33.958981Z",
          "shell.execute_reply": "2022-02-16T12:38:33.958575Z",
          "shell.execute_reply.started": "2022-02-16T12:38:33.919752Z"
        },
        "id": "WbgCOT-7xhRX",
        "tags": []
      },
      "outputs": [],
      "source": [
        "# load the saved model\n",
        "loaded_model_combined = joblib.load(file_model_combined)"
      ]
    },
    {
      "cell_type": "markdown",
      "source": [
        "### <font color ='pickle'>**Plot Learning Curve**\n"
      ],
      "metadata": {
        "id": "UBZT3wMvDY-g"
      }
    },
    {
      "cell_type": "code",
      "execution_count": 1553,
      "metadata": {
        "colab": {
          "base_uri": "https://localhost:8080/",
          "height": 351
        },
        "execution": {
          "iopub.execute_input": "2022-02-16T12:38:44.390671Z",
          "iopub.status.busy": "2022-02-16T12:38:44.390516Z",
          "iopub.status.idle": "2022-02-16T12:39:32.513139Z",
          "shell.execute_reply": "2022-02-16T12:39:32.512762Z",
          "shell.execute_reply.started": "2022-02-16T12:38:44.390645Z"
        },
        "id": "5_O4X3ZSxhRX",
        "outputId": "4b76063d-4841-4eb5-cb64-c95433ac9891",
        "tags": []
      },
      "outputs": [
        {
          "output_type": "display_data",
          "data": {
            "text/plain": [
              "<Figure size 1440x360 with 3 Axes>"
            ],
            "image/png": "[encoded data removed]"
          },
          "metadata": {
            "needs_background": "light"
          }
        }
      ],
      "source": [
        "# plot learning curves\n",
        "plc.plot_learning_curve(loaded_model_combined, 'Learning Curves classifier_1c', X_train_final, y_train, scoring=fbeta_scorer)\n",
        "plt.show()"
      ]
    },
    {
      "cell_type": "markdown",
      "metadata": {
        "execution": {
          "iopub.execute_input": "2021-09-12T20:06:00.279963Z",
          "iopub.status.busy": "2021-09-12T20:06:00.279831Z",
          "iopub.status.idle": "2021-09-12T20:06:00.283105Z",
          "shell.execute_reply": "2021-09-12T20:06:00.282566Z",
          "shell.execute_reply.started": "2021-09-12T20:06:00.279950Z"
        },
        "id": "B5f8GAfyxhRX"
      },
      "source": [
        "<font color ='indianred'>**Observations**\n",
        "<br></font>\n",
        "Clearly there is <font color ='indianred'>**overfitting**</font>. In case of overfitting we can improve results by \n",
        "\n",
        "1. Adding more data (training model on complete dataset)\n",
        "2. By hyperparameter tuning (reduce model complexity) of logistic regression and vectorizer."
      ]
    },
    {
      "cell_type": "code",
      "execution_count": 1554,
      "metadata": {
        "colab": {
          "base_uri": "https://localhost:8080/"
        },
        "execution": {
          "iopub.execute_input": "2022-02-16T12:39:37.195744Z",
          "iopub.status.busy": "2022-02-16T12:39:37.195598Z",
          "iopub.status.idle": "2022-02-16T12:39:37.321835Z",
          "shell.execute_reply": "2022-02-16T12:39:37.321368Z",
          "shell.execute_reply.started": "2022-02-16T12:39:37.195731Z"
        },
        "id": "ULowPwc6xhRX",
        "outputId": "b51a66d7-93d6-4f47-a9da-23eb81915aca",
        "tags": []
      },
      "outputs": [
        {
          "output_type": "stream",
          "name": "stdout",
          "text": [
            "F Beta Score on train set  is 1.0\n"
          ]
        }
      ],
      "source": [
        "# Accuracy on Train data set\n",
        "grid_classifier_combined = loaded_model_combined.score(X_train_final, y_train)\n",
        "print(f'F Beta Score on train set  is {grid_classifier_combined}')"
      ]
    },
    {
      "cell_type": "markdown",
      "metadata": {
        "id": "lrUzDQ_0xhRY"
      },
      "source": [
        "### <font color ='pickle'>**Evaluate model on test datset**"
      ]
    },
    {
      "cell_type": "code",
      "execution_count": 1555,
      "metadata": {
        "execution": {
          "iopub.execute_input": "2022-02-16T12:39:42.983241Z",
          "iopub.status.busy": "2022-02-16T12:39:42.982678Z",
          "iopub.status.idle": "2022-02-16T12:40:06.186441Z",
          "shell.execute_reply": "2022-02-16T12:40:06.185801Z",
          "shell.execute_reply.started": "2022-02-16T12:39:42.983225Z"
        },
        "id": "ghzmnO-DxhRY",
        "tags": []
      },
      "outputs": [],
      "source": [
        "X_test_cleaned = cp.SpacyPreprocessor(model = 'en_core_web_sm', remove_stop=True).transform(X_test)"
      ]
    },
    {
      "cell_type": "code",
      "execution_count": 1556,
      "metadata": {
        "execution": {
          "iopub.execute_input": "2022-02-16T12:40:06.187323Z",
          "iopub.status.busy": "2022-02-16T12:40:06.187232Z",
          "iopub.status.idle": "2022-02-16T12:40:06.189520Z",
          "shell.execute_reply": "2022-02-16T12:40:06.189165Z",
          "shell.execute_reply.started": "2022-02-16T12:40:06.187312Z"
        },
        "id": "e9IyZZ9mxhRY",
        "tags": []
      },
      "outputs": [],
      "source": [
        "# save  this to a file\n",
        "X_test_cleaned_sparse_embed = model_folder / 'x_test_cleaned_sparse_embed.pkl'"
      ]
    },
    {
      "cell_type": "code",
      "execution_count": 1557,
      "metadata": {
        "execution": {
          "iopub.execute_input": "2022-02-16T12:40:06.190090Z",
          "iopub.status.busy": "2022-02-16T12:40:06.189967Z",
          "iopub.status.idle": "2022-02-16T12:40:06.202493Z",
          "shell.execute_reply": "2022-02-16T12:40:06.202188Z",
          "shell.execute_reply.started": "2022-02-16T12:40:06.190079Z"
        },
        "id": "zJt98pmExhRY",
        "outputId": "a631d72a-e061-4e1e-c3ee-27aec4ddb6a8",
        "tags": [],
        "colab": {
          "base_uri": "https://localhost:8080/"
        }
      },
      "outputs": [
        {
          "output_type": "execute_result",
          "data": {
            "text/plain": [
              "['/content/drive/MyDrive/6342_NLP/models/x_test_cleaned_sparse_embed.pkl']"
            ]
          },
          "metadata": {},
          "execution_count": 1557
        }
      ],
      "source": [
        "joblib.dump(X_test_cleaned, X_test_cleaned_sparse_embed)"
      ]
    },
    {
      "cell_type": "code",
      "execution_count": 1558,
      "metadata": {
        "execution": {
          "iopub.execute_input": "2022-02-16T12:40:06.203542Z",
          "iopub.status.busy": "2022-02-16T12:40:06.203399Z",
          "iopub.status.idle": "2022-02-16T12:40:06.206490Z",
          "shell.execute_reply": "2022-02-16T12:40:06.206203Z",
          "shell.execute_reply.started": "2022-02-16T12:40:06.203528Z"
        },
        "id": "rHYhi0-0xhRY",
        "tags": []
      },
      "outputs": [],
      "source": [
        "# Final Pipeline\n",
        "def final_pipeline(text):\n",
        "  #cleaned_text = cp.SpacyPreprocessor(model = 'en_core_web_sm', remove_stop=True).transform(text)\n",
        "  cleaned_text = joblib.load(X_test_cleaned_sparse_embed)\n",
        "  X_features, feature_names  = featurizer.fit_transform(text)\n",
        "  X_final = pd.concat((pd.DataFrame(cleaned_text, columns =['cleaned_text']), \n",
        "                           pd.DataFrame(X_features, columns=feature_names)),axis =1)\n",
        "  \n",
        "  predictions = loaded_model_combined.predict(X_final)\n",
        "  return predictions"
      ]
    },
    {
      "cell_type": "code",
      "execution_count": 1559,
      "metadata": {
        "execution": {
          "iopub.execute_input": "2022-02-16T12:40:06.207102Z",
          "iopub.status.busy": "2022-02-16T12:40:06.206981Z",
          "iopub.status.idle": "2022-02-16T12:41:01.637012Z",
          "shell.execute_reply": "2022-02-16T12:41:01.636553Z",
          "shell.execute_reply.started": "2022-02-16T12:40:06.207089Z"
        },
        "id": "oUnqhze8xhRZ",
        "tags": []
      },
      "outputs": [],
      "source": [
        "# predicted values for Test data set\n",
        "y_test_pred = final_pipeline(X_test)"
      ]
    },
    {
      "cell_type": "markdown",
      "metadata": {
        "id": "ezm9KO1TxhRZ"
      },
      "source": [
        "### <font color ='pickle'>**Classification report for test dataset**"
      ]
    },
    {
      "cell_type": "markdown",
      "metadata": {
        "id": "PHpwPwTyxhRZ"
      },
      "source": [
        "* As we have already seen, our dataset is well balanced. Hence we have used accuracy as our scoring method.\n",
        "* However, it is a good idea to also look at classification report which gives precision, recall, and f1-score for both labels and average score also.\n",
        "* This metric works very well in case of balanced as well as imbalanced data because it lets you measure the performance of model for each labels."
      ]
    },
    {
      "cell_type": "code",
      "execution_count": 1560,
      "metadata": {
        "colab": {
          "base_uri": "https://localhost:8080/"
        },
        "execution": {
          "iopub.execute_input": "2022-02-16T12:42:11.389131Z",
          "iopub.status.busy": "2022-02-16T12:42:11.388727Z",
          "iopub.status.idle": "2022-02-16T12:42:11.398640Z",
          "shell.execute_reply": "2022-02-16T12:42:11.398180Z",
          "shell.execute_reply.started": "2022-02-16T12:42:11.389116Z"
        },
        "id": "EcuyniqsxhRZ",
        "outputId": "bd43163d-b827-42d3-8d75-9cd302251fb5",
        "tags": []
      },
      "outputs": [
        {
          "output_type": "stream",
          "name": "stdout",
          "text": [
            "\n",
            "Test set classification report:\n",
            "\n",
            "               precision    recall  f1-score   support\n",
            "\n",
            "           0       1.00      0.99      0.99       154\n",
            "           1       0.94      1.00      0.97        30\n",
            "\n",
            "    accuracy                           0.99       184\n",
            "   macro avg       0.97      0.99      0.98       184\n",
            "weighted avg       0.99      0.99      0.99       184\n",
            "\n"
          ]
        }
      ],
      "source": [
        "print('\\nTest set classification report:\\n\\n',classification_report(y_test, y_test_pred ))"
      ]
    },
    {
      "cell_type": "code",
      "source": [
        "print('F Beta Score for Test Set = ',fbeta_score(y_test, y_test_pred, beta=0.5))"
      ],
      "metadata": {
        "colab": {
          "base_uri": "https://localhost:8080/"
        },
        "id": "6F1TPOCpCX33",
        "outputId": "13024791-7f35-485a-b1e1-897686f80dfd"
      },
      "execution_count": 1561,
      "outputs": [
        {
          "output_type": "stream",
          "name": "stdout",
          "text": [
            "F Beta Score for Test Set =  0.9493670886075949\n"
          ]
        }
      ]
    },
    {
      "cell_type": "markdown",
      "metadata": {
        "id": "PqPTPb0AsMP3"
      },
      "source": [
        "# **Required Submissions:**\n",
        "1.  Submit two colab/jupyter notebooks\n",
        "- (analysis with smaller subset and all three pipelines)\n",
        "- (analysis with bigger subset and only final pipeline)\n",
        "2. Pdf version of the notebooks (HWs will not be graded if pdf version is not provided.\n",
        "3. **The notebooks and pdf files should have the output.**\n",
        "4. **Name files as follows : FirstName_file1_hw2, FirstName_file2_h2**"
      ]
    },
    {
      "cell_type": "code",
      "source": [],
      "metadata": {
        "id": "YlSQJ5ZlFRNv"
      },
      "execution_count": 1561,
      "outputs": []
    }
  ]
}
