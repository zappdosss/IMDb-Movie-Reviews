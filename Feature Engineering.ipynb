{
  "cells": [
    {
      "attachments": {},
      "cell_type": "markdown",
      "metadata": {
        "id": "3cfCXWzzuZKE"
      },
      "source": [
        "# <font color = 'pickle'>**Pre-processing/Feature Engineering**"
      ]
    },
    {
      "attachments": {},
      "cell_type": "markdown",
      "metadata": {
        "id": "rh2s542civAU"
      },
      "source": [
        "# <font color ='pickle'> **Task1: Download data and combine data from multiple files into a single dataframe**\n",
        "\n",
        "In this task we download the moview reviews from the following link:\n",
        "https://www.cs.cornell.edu/people/pabo/movie-review-data/scale_whole_review.tar.gz\n",
        "\n",
        "\n",
        "- The data has movie reviews from four different reviewers: \n",
        "(1) Dennis+Schwartz,  (2) James+Berardinelli, (3) Scott+Renshaw and (4) Steve+Rhodes.\n",
        "\n",
        "- We have to extract the reviews of  the four reviewers in a single dataframe.\n",
        "- The final dataframe will have two columns (1) Moview Review and (2) Reviewer Name.\n"
      ]
    },
    {
      "cell_type": "markdown",
      "metadata": {
        "id": "81jHoPoelyRr"
      },
      "source": [
        "# <font color = 'dodgerblue'>**Import libraries**"
      ]
    },
    {
      "cell_type": "code",
      "execution_count": null,
      "metadata": {
        "id": "89bAsiVqhqiT"
      },
      "outputs": [],
      "source": [
        "# import libraries\n",
        "import pandas as pd\n",
        "from pathlib import Path\n",
        "import zipfile\n",
        "import tarfile\n",
        "import os"
      ]
    },
    {
      "cell_type": "markdown",
      "metadata": {
        "id": "L4irHqIdFTRc"
      },
      "source": [
        "# <font color = 'dodgerblue'>**Mount Google drive and Specify folder paths**"
      ]
    },
    {
      "cell_type": "code",
      "execution_count": null,
      "metadata": {
        "colab": {
          "base_uri": "https://localhost:8080/"
        },
        "id": "2_4UPFbXFX8l",
        "outputId": "f7172cba-6d39-4429-c10a-cd358f408e8f"
      },
      "outputs": [
        {
          "name": "stdout",
          "output_type": "stream",
          "text": [
            "Mounted at /content/drive\n"
          ]
        }
      ],
      "source": [
        "from google.colab import drive\n",
        "drive.mount('/content/drive')"
      ]
    },
    {
      "cell_type": "code",
      "execution_count": null,
      "metadata": {
        "id": "12evQUDmH6Ls"
      },
      "outputs": [],
      "source": [
        "# Make sure you change the Path to where you want to save data\n",
        "# In the code below - datasets is the folder name in my google drive\n",
        "# you can change this to appropriate folder for your drive\n",
        "# for example you may want to save data to BUAN6341/HW1/Data\n",
        "# in this case the below code should be modified to : '/content/drive/MyDrive/BUAN6341/HW2/Data'\n",
        "\n",
        "base_path = r'/content/drive/MyDrive/6342_NLP/Lecture2/'"
      ]
    },
    {
      "cell_type": "code",
      "execution_count": null,
      "metadata": {
        "id": "Ad6kZ35AWtic"
      },
      "outputs": [],
      "source": [
        "# create a POSIX path for data folder\n",
        "# we can use this to navigate file system\n",
        "base_folder = Path(base_path)"
      ]
    },
    {
      "cell_type": "code",
      "execution_count": null,
      "metadata": {
        "id": "HgR_LxhPQqCF"
      },
      "outputs": [],
      "source": [
        "# I usually keep teh compressed files in archive folder and unzip these files in data folder\n",
        "# You can skip this step if you do not want to follow this folder structure\n",
        "\n",
        "# The / can join several paths or a mix of paths and strings given, atleast one of those\n",
        "# paths should be an instance of class `Path` from `pathlib` library (as shown below).\n",
        "\n",
        "archive_folder = base_folder/'archive'\n",
        "data_folder = base_folder/'datasets'"
      ]
    },
    {
      "cell_type": "code",
      "execution_count": null,
      "metadata": {
        "colab": {
          "base_uri": "https://localhost:8080/"
        },
        "id": "Eg_NLEwxGIri",
        "outputId": "0493b606-d30d-4f28-ff01-1fefbe4ea585"
      },
      "outputs": [
        {
          "data": {
            "text/plain": [
              "PosixPath('/content')"
            ]
          },
          "execution_count": 6,
          "metadata": {},
          "output_type": "execute_result"
        }
      ],
      "source": [
        "# check current working directory\n",
        "Path.cwd()"
      ]
    },
    {
      "cell_type": "markdown",
      "metadata": {
        "id": "FKOReQ5C4ArS"
      },
      "source": [
        "## <font color = 'dodgerblue'>**Step1: use wget to download data files from URl**"
      ]
    },
    {
      "cell_type": "markdown",
      "metadata": {
        "id": "NyfsctZ_tQuc"
      },
      "source": [
        "Download a  file to the filesystem from a url using the wget commmand <br>\n",
        "URL = https://www.cs.cornell.edu/people/pabo/movie-review-data/scale_whole_review.tar.gz<br>\n",
        "\n",
        "**Syntax** <br> !wget {url} -P {path_to_save_file} -O filename <br>\n",
        "- To use variables in bash commands , we have to use {} brackets \n",
        "- if we do not specify -P , files will be saved in current direcory \n",
        "- Use O if you want to overwrite existing file\n",
        "<br>\n",
        "\n",
        "Alternatively we can also use <br>\n",
        "!wget url -P 'path_to_save_file'"
      ]
    },
    {
      "cell_type": "code",
      "execution_count": null,
      "metadata": {
        "colab": {
          "base_uri": "https://localhost:8080/"
        },
        "id": "yAbrXS1WJYv6",
        "outputId": "fa4aeb67-98be-4597-ac8a-0ea00d8c7f90"
      },
      "outputs": [
        {
          "name": "stdout",
          "output_type": "stream",
          "text": [
            "--2022-09-11 02:17:05--  https://www.cs.cornell.edu/people/pabo/movie-review-data/scale_whole_review.tar.gz\n",
            "Resolving www.cs.cornell.edu (www.cs.cornell.edu)... 132.236.207.36\n",
            "Connecting to www.cs.cornell.edu (www.cs.cornell.edu)|132.236.207.36|:443... connected.\n",
            "HTTP request sent, awaiting response... 200 OK\n",
            "Length: 8853204 (8.4M) [application/x-gzip]\n",
            "Saving to: ‘/content/drive/MyDrive/6342_NLP/Lecture2/archive/reviews.tar.gz’\n",
            "\n",
            "reviews.tar.gz      100%[===================>]   8.44M  25.0MB/s    in 0.3s    \n",
            "\n",
            "2022-09-11 02:17:05 (25.0 MB/s) - ‘/content/drive/MyDrive/6342_NLP/Lecture2/archive/reviews.tar.gz’ saved [8853204/8853204]\n",
            "\n"
          ]
        }
      ],
      "source": [
        "# use wget to download the data\n",
        "file = archive_folder/'reviews.tar.gz'\n",
        "URL = 'https://www.cs.cornell.edu/people/pabo/movie-review-data/scale_whole_review.tar.gz'\n",
        "\n",
        "# CODE HERE\n",
        "\n",
        "!wget {URL} -P {archive_folder} -O {file}"
      ]
    },
    {
      "cell_type": "markdown",
      "metadata": {
        "id": "lj3bS5zp4unS"
      },
      "source": [
        "## <font color = 'dodgerblue'>**Step2: check content of folder where data was downloaded**"
      ]
    },
    {
      "cell_type": "code",
      "execution_count": null,
      "metadata": {
        "colab": {
          "base_uri": "https://localhost:8080/"
        },
        "id": "xPVaMAS28sio",
        "outputId": "a03d1680-5349-4316-d42d-7d4bcecc3e2c"
      },
      "outputs": [
        {
          "name": "stdout",
          "output_type": "stream",
          "text": [
            "review_polarity.tar.gz\n",
            "reviews.tar.gz\n"
          ]
        }
      ],
      "source": [
        "# step 2: check teh content of the folder where file was downloaded\n",
        "# List the content of current directory\n",
        "# folder is a Pathlib Path. We can iterate over this folder using .iterdir()\n",
        "# Code here\n",
        "\n",
        "for entries in archive_folder.iterdir():\n",
        "  if 'tar' in entries.name:\n",
        "    print(entries.name)"
      ]
    },
    {
      "cell_type": "markdown",
      "metadata": {
        "id": "5H5pXmwoIKBo"
      },
      "source": [
        "## <font color = 'dodgerblue'>**Step3: Check content of zipped/tar folder**"
      ]
    },
    {
      "cell_type": "markdown",
      "metadata": {
        "id": "zf9m5rj4yoxl"
      },
      "source": [
        "We can construct a path to the file by joining the parts using the special operator /. The / can join several paths or a mix of paths and strings given, atleast one of those paths should be an instance of class `Path` from `pathlib` library (as shown below).\n"
      ]
    },
    {
      "cell_type": "code",
      "execution_count": null,
      "metadata": {
        "id": "F5OEhoCGOe6x"
      },
      "outputs": [],
      "source": [
        "# path for zipfile\n",
        "file = archive_folder / 'reviews.tar.gz'"
      ]
    },
    {
      "cell_type": "markdown",
      "metadata": {
        "id": "5wueTWBXOjFu"
      },
      "source": [
        "We will open and read the zip file using \n",
        "```python\n",
        "with zipfile.ZipFile(file, mode)\n",
        "``` \n",
        "here `file` is the file to open and we can specify the mode (read, write etc,)\n",
        "In below command we have used `'r'` to specify that we can open the file in reading mode.\n",
        "Finally we use namelist() method to list the content of zipped folder."
      ]
    },
    {
      "cell_type": "code",
      "execution_count": null,
      "metadata": {
        "id": "ELciGJCrO6sY"
      },
      "outputs": [],
      "source": [
        "# list the content of the zipped folder\n",
        "# code here\n",
        "\n",
        "with  tarfile.open(file, 'r') as tar:\n",
        "  tar_file_names = tar.getnames()"
      ]
    },
    {
      "cell_type": "markdown",
      "metadata": {
        "id": "qmUGWUxlJ0v8"
      },
      "source": [
        "## <font color = 'dodgerblue'>**Step 4: unzip/untar files**"
      ]
    },
    {
      "cell_type": "code",
      "execution_count": null,
      "metadata": {
        "colab": {
          "background_save": true
        },
        "id": "HIKaaafRCuIE"
      },
      "outputs": [],
      "source": [
        "# %%timeit will tell us the time it takes to execute this cell\n",
        "# %%timeit \n",
        "# unzip the file \n",
        "\n",
        "with tarfile.open(file, 'r') as tar:\n",
        "    tar.extractall(path = data_folder)"
      ]
    },
    {
      "cell_type": "code",
      "execution_count": null,
      "metadata": {
        "colab": {
          "background_save": true
        },
        "id": "PrGnkGGPCjxN",
        "outputId": "5a836f74-8d4a-4971-d56b-7cf1d94d61e6"
      },
      "outputs": [
        {
          "data": {
            "text/plain": [
              "['scaledata.README.1.0.txt',\n",
              " 'scale_whole_review/Dennis+Schwartz',\n",
              " 'scale_whole_review/Dennis+Schwartz/txt.parag',\n",
              " 'scale_whole_review/Dennis+Schwartz/txt.parag/16748.txt',\n",
              " 'scale_whole_review/Dennis+Schwartz/txt.parag/17108.txt',\n",
              " 'scale_whole_review/Dennis+Schwartz/txt.parag/17109.txt',\n",
              " 'scale_whole_review/Dennis+Schwartz/txt.parag/17110.txt',\n",
              " 'scale_whole_review/Dennis+Schwartz/txt.parag/17111.txt',\n",
              " 'scale_whole_review/Dennis+Schwartz/txt.parag/17116.txt',\n",
              " 'scale_whole_review/Dennis+Schwartz/txt.parag/17117.txt']"
            ]
          },
          "execution_count": 12,
          "metadata": {},
          "output_type": "execute_result"
        }
      ],
      "source": [
        "tar_file_names[0:10]"
      ]
    },
    {
      "cell_type": "markdown",
      "metadata": {
        "id": "wI1fM3UGReUY"
      },
      "source": [
        "## <font color = 'dodgerblue'>**Step 5: Create DataFrame**"
      ]
    },
    {
      "cell_type": "code",
      "execution_count": null,
      "metadata": {
        "colab": {
          "background_save": true
        },
        "id": "St9v3lBfc4Wu"
      },
      "outputs": [],
      "source": [
        "extracted_folder = data_folder/'scale_whole_review'\n",
        "\n",
        "# Create a list containing all text file paths\n",
        "def list_full_paths(directory):\n",
        "    return [os.path.join(directory, file) for file in os.listdir(directory)]\n",
        "\n",
        "# Function to read contents of a text file and return the text\n",
        "def read_csv_with_encoding(path):\n",
        "  with open(path,'r', encoding = 'ISO-8859-1') as f:\n",
        "        text = f.read()\n",
        "  return text\n",
        "\n",
        "# Combine all text data into a list, with each file data as each row of list\n",
        "def combine_reviews(path):\n",
        "  reviews = []\n",
        "  for i in path.iterdir():\n",
        "    # df = pd.concat(map(read_csv_with_encoding, filesList[i])).reset_index(drop=True)\n",
        "    with open(i,'r', encoding = 'ISO-8859-1') as f:\n",
        "      text = f.read()\n",
        "      reviews.append(text)\n",
        "  return reviews\n",
        "\n",
        "filesList = []\n",
        "df = pd.DataFrame()\n",
        "\n",
        "# Loop through Folders of Reviews and create data frame\n",
        "for folder in extracted_folder.iterdir():\n",
        "  df2 = pd.DataFrame(combine_reviews(extracted_folder/folder/'txt.parag'), columns=['Moview Review'])\n",
        "  df2['Reviewer Name'] = str(folder).split('/')[-1]\n",
        "  df = df.append(df2, ignore_index=True)\n"
      ]
    },
    {
      "cell_type": "code",
      "execution_count": null,
      "metadata": {
        "colab": {
          "background_save": true
        },
        "id": "N5GyD98_2OGi",
        "outputId": "96ecfb1d-862a-4a8e-8228-4b533c93e4ec"
      },
      "outputs": [
        {
          "data": {
            "text/html": [
              "\n",
              "  <div id=\"df-aed49f9e-e848-4c43-8f97-28e3daef7e6a\">\n",
              "    <div class=\"colab-df-container\">\n",
              "      <div>\n",
              "<style scoped>\n",
              "    .dataframe tbody tr th:only-of-type {\n",
              "        vertical-align: middle;\n",
              "    }\n",
              "\n",
              "    .dataframe tbody tr th {\n",
              "        vertical-align: top;\n",
              "    }\n",
              "\n",
              "    .dataframe thead th {\n",
              "        text-align: right;\n",
              "    }\n",
              "</style>\n",
              "<table border=\"1\" class=\"dataframe\">\n",
              "  <thead>\n",
              "    <tr style=\"text-align: right;\">\n",
              "      <th></th>\n",
              "      <th>Moview Review</th>\n",
              "      <th>Reviewer Name</th>\n",
              "    </tr>\n",
              "  </thead>\n",
              "  <tbody>\n",
              "    <tr>\n",
              "      <th>0</th>\n",
              "      <td>Let's start by clearing up one point. First-ti...</td>\n",
              "      <td>Steve+Rhodes</td>\n",
              "    </tr>\n",
              "    <tr>\n",
              "      <th>1</th>\n",
              "      <td>The ending credits do not confirm it, but it w...</td>\n",
              "      <td>Steve+Rhodes</td>\n",
              "    </tr>\n",
              "    <tr>\n",
              "      <th>2</th>\n",
              "      <td>Three years ago we started out our son Jeffrey...</td>\n",
              "      <td>Steve+Rhodes</td>\n",
              "    </tr>\n",
              "    <tr>\n",
              "      <th>3</th>\n",
              "      <td>HEAD OVER HEELS, a romantic comedy twist on RE...</td>\n",
              "      <td>Steve+Rhodes</td>\n",
              "    </tr>\n",
              "    <tr>\n",
              "      <th>4</th>\n",
              "      <td>In DOWN TO EARTH, Chris Rock plays a strugglin...</td>\n",
              "      <td>Steve+Rhodes</td>\n",
              "    </tr>\n",
              "  </tbody>\n",
              "</table>\n",
              "</div>\n",
              "      <button class=\"colab-df-convert\" onclick=\"convertToInteractive('df-aed49f9e-e848-4c43-8f97-28e3daef7e6a')\"\n",
              "              title=\"Convert this dataframe to an interactive table.\"\n",
              "              style=\"display:none;\">\n",
              "        \n",
              "  <svg xmlns=\"http://www.w3.org/2000/svg\" height=\"24px\"viewBox=\"0 0 24 24\"\n",
              "       width=\"24px\">\n",
              "    <path d=\"M0 0h24v24H0V0z\" fill=\"none\"/>\n",
              "    <path d=\"M18.56 5.44l.94 2.06.94-2.06 2.06-.94-2.06-.94-.94-2.06-.94 2.06-2.06.94zm-11 1L8.5 8.5l.94-2.06 2.06-.94-2.06-.94L8.5 2.5l-.94 2.06-2.06.94zm10 10l.94 2.06.94-2.06 2.06-.94-2.06-.94-.94-2.06-.94 2.06-2.06.94z\"/><path d=\"M17.41 7.96l-1.37-1.37c-.4-.4-.92-.59-1.43-.59-.52 0-1.04.2-1.43.59L10.3 9.45l-7.72 7.72c-.78.78-.78 2.05 0 2.83L4 21.41c.39.39.9.59 1.41.59.51 0 1.02-.2 1.41-.59l7.78-7.78 2.81-2.81c.8-.78.8-2.07 0-2.86zM5.41 20L4 18.59l7.72-7.72 1.47 1.35L5.41 20z\"/>\n",
              "  </svg>\n",
              "      </button>\n",
              "      \n",
              "  <style>\n",
              "    .colab-df-container {\n",
              "      display:flex;\n",
              "      flex-wrap:wrap;\n",
              "      gap: 12px;\n",
              "    }\n",
              "\n",
              "    .colab-df-convert {\n",
              "      background-color: #E8F0FE;\n",
              "      border: none;\n",
              "      border-radius: 50%;\n",
              "      cursor: pointer;\n",
              "      display: none;\n",
              "      fill: #1967D2;\n",
              "      height: 32px;\n",
              "      padding: 0 0 0 0;\n",
              "      width: 32px;\n",
              "    }\n",
              "\n",
              "    .colab-df-convert:hover {\n",
              "      background-color: #E2EBFA;\n",
              "      box-shadow: 0px 1px 2px rgba(60, 64, 67, 0.3), 0px 1px 3px 1px rgba(60, 64, 67, 0.15);\n",
              "      fill: #174EA6;\n",
              "    }\n",
              "\n",
              "    [theme=dark] .colab-df-convert {\n",
              "      background-color: #3B4455;\n",
              "      fill: #D2E3FC;\n",
              "    }\n",
              "\n",
              "    [theme=dark] .colab-df-convert:hover {\n",
              "      background-color: #434B5C;\n",
              "      box-shadow: 0px 1px 3px 1px rgba(0, 0, 0, 0.15);\n",
              "      filter: drop-shadow(0px 1px 2px rgba(0, 0, 0, 0.3));\n",
              "      fill: #FFFFFF;\n",
              "    }\n",
              "  </style>\n",
              "\n",
              "      <script>\n",
              "        const buttonEl =\n",
              "          document.querySelector('#df-aed49f9e-e848-4c43-8f97-28e3daef7e6a button.colab-df-convert');\n",
              "        buttonEl.style.display =\n",
              "          google.colab.kernel.accessAllowed ? 'block' : 'none';\n",
              "\n",
              "        async function convertToInteractive(key) {\n",
              "          const element = document.querySelector('#df-aed49f9e-e848-4c43-8f97-28e3daef7e6a');\n",
              "          const dataTable =\n",
              "            await google.colab.kernel.invokeFunction('convertToInteractive',\n",
              "                                                     [key], {});\n",
              "          if (!dataTable) return;\n",
              "\n",
              "          const docLinkHtml = 'Like what you see? Visit the ' +\n",
              "            '<a target=\"_blank\" href=https://colab.research.google.com/notebooks/data_table.ipynb>data table notebook</a>'\n",
              "            + ' to learn more about interactive tables.';\n",
              "          element.innerHTML = '';\n",
              "          dataTable['output_type'] = 'display_data';\n",
              "          await google.colab.output.renderOutput(dataTable, element);\n",
              "          const docLink = document.createElement('div');\n",
              "          docLink.innerHTML = docLinkHtml;\n",
              "          element.appendChild(docLink);\n",
              "        }\n",
              "      </script>\n",
              "    </div>\n",
              "  </div>\n",
              "  "
            ],
            "text/plain": [
              "                                       Moview Review Reviewer Name\n",
              "0  Let's start by clearing up one point. First-ti...  Steve+Rhodes\n",
              "1  The ending credits do not confirm it, but it w...  Steve+Rhodes\n",
              "2  Three years ago we started out our son Jeffrey...  Steve+Rhodes\n",
              "3  HEAD OVER HEELS, a romantic comedy twist on RE...  Steve+Rhodes\n",
              "4  In DOWN TO EARTH, Chris Rock plays a strugglin...  Steve+Rhodes"
            ]
          },
          "execution_count": 14,
          "metadata": {},
          "output_type": "execute_result"
        }
      ],
      "source": [
        "df.head()"
      ]
    },
    {
      "cell_type": "code",
      "execution_count": null,
      "metadata": {
        "colab": {
          "background_save": true
        },
        "id": "JGEJ1xjoSRNr",
        "outputId": "7eebe9ef-5a35-4e6b-f8af-32cbbf6da9fc"
      },
      "outputs": [
        {
          "data": {
            "text/html": [
              "\n",
              "  <div id=\"df-d00ca5b1-689e-489a-ae95-983fa931e1a0\">\n",
              "    <div class=\"colab-df-container\">\n",
              "      <div>\n",
              "<style scoped>\n",
              "    .dataframe tbody tr th:only-of-type {\n",
              "        vertical-align: middle;\n",
              "    }\n",
              "\n",
              "    .dataframe tbody tr th {\n",
              "        vertical-align: top;\n",
              "    }\n",
              "\n",
              "    .dataframe thead th {\n",
              "        text-align: right;\n",
              "    }\n",
              "</style>\n",
              "<table border=\"1\" class=\"dataframe\">\n",
              "  <thead>\n",
              "    <tr style=\"text-align: right;\">\n",
              "      <th></th>\n",
              "      <th>Moview Review</th>\n",
              "      <th>Reviewer Name</th>\n",
              "    </tr>\n",
              "  </thead>\n",
              "  <tbody>\n",
              "    <tr>\n",
              "      <th>5001</th>\n",
              "      <td>RUMBLE FISH (director/writer: Francis Ford Cop...</td>\n",
              "      <td>Dennis+Schwartz</td>\n",
              "    </tr>\n",
              "    <tr>\n",
              "      <th>5002</th>\n",
              "      <td>EQUINOX (director/writer: Alan Rudolph; cinema...</td>\n",
              "      <td>Dennis+Schwartz</td>\n",
              "    </tr>\n",
              "    <tr>\n",
              "      <th>5003</th>\n",
              "      <td>MAHLER (director/writer: Ken Russell; cinemato...</td>\n",
              "      <td>Dennis+Schwartz</td>\n",
              "    </tr>\n",
              "    <tr>\n",
              "      <th>5004</th>\n",
              "      <td>SUITE 16 (director: Dominique Deruddere; scree...</td>\n",
              "      <td>Dennis+Schwartz</td>\n",
              "    </tr>\n",
              "    <tr>\n",
              "      <th>5005</th>\n",
              "      <td>PLEASANTVILLE (director/writer:Gary Ross; cine...</td>\n",
              "      <td>Dennis+Schwartz</td>\n",
              "    </tr>\n",
              "  </tbody>\n",
              "</table>\n",
              "</div>\n",
              "      <button class=\"colab-df-convert\" onclick=\"convertToInteractive('df-d00ca5b1-689e-489a-ae95-983fa931e1a0')\"\n",
              "              title=\"Convert this dataframe to an interactive table.\"\n",
              "              style=\"display:none;\">\n",
              "        \n",
              "  <svg xmlns=\"http://www.w3.org/2000/svg\" height=\"24px\"viewBox=\"0 0 24 24\"\n",
              "       width=\"24px\">\n",
              "    <path d=\"M0 0h24v24H0V0z\" fill=\"none\"/>\n",
              "    <path d=\"M18.56 5.44l.94 2.06.94-2.06 2.06-.94-2.06-.94-.94-2.06-.94 2.06-2.06.94zm-11 1L8.5 8.5l.94-2.06 2.06-.94-2.06-.94L8.5 2.5l-.94 2.06-2.06.94zm10 10l.94 2.06.94-2.06 2.06-.94-2.06-.94-.94-2.06-.94 2.06-2.06.94z\"/><path d=\"M17.41 7.96l-1.37-1.37c-.4-.4-.92-.59-1.43-.59-.52 0-1.04.2-1.43.59L10.3 9.45l-7.72 7.72c-.78.78-.78 2.05 0 2.83L4 21.41c.39.39.9.59 1.41.59.51 0 1.02-.2 1.41-.59l7.78-7.78 2.81-2.81c.8-.78.8-2.07 0-2.86zM5.41 20L4 18.59l7.72-7.72 1.47 1.35L5.41 20z\"/>\n",
              "  </svg>\n",
              "      </button>\n",
              "      \n",
              "  <style>\n",
              "    .colab-df-container {\n",
              "      display:flex;\n",
              "      flex-wrap:wrap;\n",
              "      gap: 12px;\n",
              "    }\n",
              "\n",
              "    .colab-df-convert {\n",
              "      background-color: #E8F0FE;\n",
              "      border: none;\n",
              "      border-radius: 50%;\n",
              "      cursor: pointer;\n",
              "      display: none;\n",
              "      fill: #1967D2;\n",
              "      height: 32px;\n",
              "      padding: 0 0 0 0;\n",
              "      width: 32px;\n",
              "    }\n",
              "\n",
              "    .colab-df-convert:hover {\n",
              "      background-color: #E2EBFA;\n",
              "      box-shadow: 0px 1px 2px rgba(60, 64, 67, 0.3), 0px 1px 3px 1px rgba(60, 64, 67, 0.15);\n",
              "      fill: #174EA6;\n",
              "    }\n",
              "\n",
              "    [theme=dark] .colab-df-convert {\n",
              "      background-color: #3B4455;\n",
              "      fill: #D2E3FC;\n",
              "    }\n",
              "\n",
              "    [theme=dark] .colab-df-convert:hover {\n",
              "      background-color: #434B5C;\n",
              "      box-shadow: 0px 1px 3px 1px rgba(0, 0, 0, 0.15);\n",
              "      filter: drop-shadow(0px 1px 2px rgba(0, 0, 0, 0.3));\n",
              "      fill: #FFFFFF;\n",
              "    }\n",
              "  </style>\n",
              "\n",
              "      <script>\n",
              "        const buttonEl =\n",
              "          document.querySelector('#df-d00ca5b1-689e-489a-ae95-983fa931e1a0 button.colab-df-convert');\n",
              "        buttonEl.style.display =\n",
              "          google.colab.kernel.accessAllowed ? 'block' : 'none';\n",
              "\n",
              "        async function convertToInteractive(key) {\n",
              "          const element = document.querySelector('#df-d00ca5b1-689e-489a-ae95-983fa931e1a0');\n",
              "          const dataTable =\n",
              "            await google.colab.kernel.invokeFunction('convertToInteractive',\n",
              "                                                     [key], {});\n",
              "          if (!dataTable) return;\n",
              "\n",
              "          const docLinkHtml = 'Like what you see? Visit the ' +\n",
              "            '<a target=\"_blank\" href=https://colab.research.google.com/notebooks/data_table.ipynb>data table notebook</a>'\n",
              "            + ' to learn more about interactive tables.';\n",
              "          element.innerHTML = '';\n",
              "          dataTable['output_type'] = 'display_data';\n",
              "          await google.colab.output.renderOutput(dataTable, element);\n",
              "          const docLink = document.createElement('div');\n",
              "          docLink.innerHTML = docLinkHtml;\n",
              "          element.appendChild(docLink);\n",
              "        }\n",
              "      </script>\n",
              "    </div>\n",
              "  </div>\n",
              "  "
            ],
            "text/plain": [
              "                                          Moview Review    Reviewer Name\n",
              "5001  RUMBLE FISH (director/writer: Francis Ford Cop...  Dennis+Schwartz\n",
              "5002  EQUINOX (director/writer: Alan Rudolph; cinema...  Dennis+Schwartz\n",
              "5003  MAHLER (director/writer: Ken Russell; cinemato...  Dennis+Schwartz\n",
              "5004  SUITE 16 (director: Dominique Deruddere; scree...  Dennis+Schwartz\n",
              "5005  PLEASANTVILLE (director/writer:Gary Ross; cine...  Dennis+Schwartz"
            ]
          },
          "execution_count": 15,
          "metadata": {},
          "output_type": "execute_result"
        }
      ],
      "source": [
        "df.tail()"
      ]
    },
    {
      "cell_type": "markdown",
      "metadata": {
        "id": "UKiLpKKP8RSe"
      },
      "source": [
        "# <font color ='pickle'> **Task2: Feature Engineering and Preprocessing IMDB - 8 points**\n",
        "\n",
        "\n",
        "<font color = 'dodgerblue'>**You can use regular expression or spacy for this task** </font>\n",
        "\n",
        "- <font color = 'dodgerblue'> **PreProcessing**:</font>\n",
        "  1. Remove HTML tags and new line character (\\n)\n",
        "  2. Remove email, urls and punctuations\n",
        "\n",
        "  For preprocessing,  write your own simple functions  and your final cleaned text should be saved in a new column - `cleaned_text`.\n",
        "\n",
        "\n",
        "- <font color = 'dodgerblue'> **Feature Engineering**\n",
        "\n",
        "  Use the `cleaned_text` column you created in the previous step and extract following features as new column.\n",
        "\n",
        "  1. number of words\n",
        "  2. number of characters\n",
        "  3. number of characters without space\n",
        "  4. average word length\n",
        "  5. count of numbers(37, 201, 20 etc.)\n",
        "\n",
        "You will use the imdb moview review dataset. The details of the data can be found from this link : https://ai.stanford.edu/~amaas/data/sentiment/.\n",
        "\n",
        "Description of the data from the above link :\n",
        "\"*This is a dataset for binary sentiment classification containing substantially more data than previous benchmark datasets. We provide a set of 25,000 highly polar movie reviews for training, and 25,000 for testing. There is additional unlabeled data for use as well. Raw text and already processed bag of words formats are provided. See the README file contained in the release for more details.*\".\n",
        "\n",
        "We extracted the data from text files and save  the train and test data as csv files. We further cleaned the dataset. <font size =4, color = 'dodgerblue'>**We will use train.csv file for this task.**</font>.\n",
        "The file is availibale in Lecture2 data subfolder."
      ]
    },
    {
      "cell_type": "markdown",
      "metadata": {
        "id": "-f38t-sDUInA"
      },
      "source": [
        "## <font color = 'dodgerblue'>**Step 1: Install Spacy, Beautiful Soup and Swifter**"
      ]
    },
    {
      "cell_type": "code",
      "execution_count": null,
      "metadata": {
        "colab": {
          "background_save": true
        },
        "id": "y_1-A2pZinr1",
        "outputId": "f1787be8-c263-411a-e014-8a3c210ce90d"
      },
      "outputs": [
        {
          "name": "stdout",
          "output_type": "stream",
          "text": [
            "2022-09-11 02:30:07.300873: E tensorflow/stream_executor/cuda/cuda_driver.cc:271] failed call to cuInit: CUDA_ERROR_NO_DEVICE: no CUDA-capable device is detected\n",
            "Looking in indexes: https://pypi.org/simple, https://us-python.pkg.dev/colab-wheels/public/simple/\n",
            "Collecting en-core-web-sm==3.4.0\n",
            "  Downloading https://github.com/explosion/spacy-models/releases/download/en_core_web_sm-3.4.0/en_core_web_sm-3.4.0-py3-none-any.whl (12.8 MB)\n",
            "\u001b[K     |████████████████████████████████| 12.8 MB 5.1 MB/s \n",
            "\u001b[?25hRequirement already satisfied: spacy<3.5.0,>=3.4.0 in /usr/local/lib/python3.7/dist-packages (from en-core-web-sm==3.4.0) (3.4.1)\n",
            "Requirement already satisfied: packaging>=20.0 in /usr/local/lib/python3.7/dist-packages (from spacy<3.5.0,>=3.4.0->en-core-web-sm==3.4.0) (21.3)\n",
            "Requirement already satisfied: wasabi<1.1.0,>=0.9.1 in /usr/local/lib/python3.7/dist-packages (from spacy<3.5.0,>=3.4.0->en-core-web-sm==3.4.0) (0.10.1)\n",
            "Requirement already satisfied: thinc<8.2.0,>=8.1.0 in /usr/local/lib/python3.7/dist-packages (from spacy<3.5.0,>=3.4.0->en-core-web-sm==3.4.0) (8.1.0)\n",
            "Requirement already satisfied: pydantic!=1.8,!=1.8.1,<1.10.0,>=1.7.4 in /usr/local/lib/python3.7/dist-packages (from spacy<3.5.0,>=3.4.0->en-core-web-sm==3.4.0) (1.9.2)\n",
            "Requirement already satisfied: catalogue<2.1.0,>=2.0.6 in /usr/local/lib/python3.7/dist-packages (from spacy<3.5.0,>=3.4.0->en-core-web-sm==3.4.0) (2.0.8)\n",
            "Requirement already satisfied: typer<0.5.0,>=0.3.0 in /usr/local/lib/python3.7/dist-packages (from spacy<3.5.0,>=3.4.0->en-core-web-sm==3.4.0) (0.4.2)\n",
            "Requirement already satisfied: requests<3.0.0,>=2.13.0 in /usr/local/lib/python3.7/dist-packages (from spacy<3.5.0,>=3.4.0->en-core-web-sm==3.4.0) (2.23.0)\n",
            "Requirement already satisfied: numpy>=1.15.0 in /usr/local/lib/python3.7/dist-packages (from spacy<3.5.0,>=3.4.0->en-core-web-sm==3.4.0) (1.21.6)\n",
            "Requirement already satisfied: srsly<3.0.0,>=2.4.3 in /usr/local/lib/python3.7/dist-packages (from spacy<3.5.0,>=3.4.0->en-core-web-sm==3.4.0) (2.4.4)\n",
            "Requirement already satisfied: preshed<3.1.0,>=3.0.2 in /usr/local/lib/python3.7/dist-packages (from spacy<3.5.0,>=3.4.0->en-core-web-sm==3.4.0) (3.0.7)\n",
            "Requirement already satisfied: jinja2 in /usr/local/lib/python3.7/dist-packages (from spacy<3.5.0,>=3.4.0->en-core-web-sm==3.4.0) (2.11.3)\n",
            "Requirement already satisfied: langcodes<4.0.0,>=3.2.0 in /usr/local/lib/python3.7/dist-packages (from spacy<3.5.0,>=3.4.0->en-core-web-sm==3.4.0) (3.3.0)\n",
            "Requirement already satisfied: setuptools in /usr/local/lib/python3.7/dist-packages (from spacy<3.5.0,>=3.4.0->en-core-web-sm==3.4.0) (57.4.0)\n",
            "Requirement already satisfied: murmurhash<1.1.0,>=0.28.0 in /usr/local/lib/python3.7/dist-packages (from spacy<3.5.0,>=3.4.0->en-core-web-sm==3.4.0) (1.0.8)\n",
            "Requirement already satisfied: spacy-legacy<3.1.0,>=3.0.9 in /usr/local/lib/python3.7/dist-packages (from spacy<3.5.0,>=3.4.0->en-core-web-sm==3.4.0) (3.0.10)\n",
            "Requirement already satisfied: typing-extensions<4.2.0,>=3.7.4 in /usr/local/lib/python3.7/dist-packages (from spacy<3.5.0,>=3.4.0->en-core-web-sm==3.4.0) (4.1.1)\n",
            "Requirement already satisfied: pathy>=0.3.5 in /usr/local/lib/python3.7/dist-packages (from spacy<3.5.0,>=3.4.0->en-core-web-sm==3.4.0) (0.6.2)\n",
            "Requirement already satisfied: spacy-loggers<2.0.0,>=1.0.0 in /usr/local/lib/python3.7/dist-packages (from spacy<3.5.0,>=3.4.0->en-core-web-sm==3.4.0) (1.0.3)\n",
            "Requirement already satisfied: cymem<2.1.0,>=2.0.2 in /usr/local/lib/python3.7/dist-packages (from spacy<3.5.0,>=3.4.0->en-core-web-sm==3.4.0) (2.0.6)\n",
            "Requirement already satisfied: tqdm<5.0.0,>=4.38.0 in /usr/local/lib/python3.7/dist-packages (from spacy<3.5.0,>=3.4.0->en-core-web-sm==3.4.0) (4.64.0)\n",
            "Requirement already satisfied: zipp>=0.5 in /usr/local/lib/python3.7/dist-packages (from catalogue<2.1.0,>=2.0.6->spacy<3.5.0,>=3.4.0->en-core-web-sm==3.4.0) (3.8.1)\n",
            "Requirement already satisfied: pyparsing!=3.0.5,>=2.0.2 in /usr/local/lib/python3.7/dist-packages (from packaging>=20.0->spacy<3.5.0,>=3.4.0->en-core-web-sm==3.4.0) (3.0.9)\n",
            "Requirement already satisfied: smart-open<6.0.0,>=5.2.1 in /usr/local/lib/python3.7/dist-packages (from pathy>=0.3.5->spacy<3.5.0,>=3.4.0->en-core-web-sm==3.4.0) (5.2.1)\n",
            "Requirement already satisfied: urllib3!=1.25.0,!=1.25.1,<1.26,>=1.21.1 in /usr/local/lib/python3.7/dist-packages (from requests<3.0.0,>=2.13.0->spacy<3.5.0,>=3.4.0->en-core-web-sm==3.4.0) (1.24.3)\n",
            "Requirement already satisfied: certifi>=2017.4.17 in /usr/local/lib/python3.7/dist-packages (from requests<3.0.0,>=2.13.0->spacy<3.5.0,>=3.4.0->en-core-web-sm==3.4.0) (2022.6.15)\n",
            "Requirement already satisfied: idna<3,>=2.5 in /usr/local/lib/python3.7/dist-packages (from requests<3.0.0,>=2.13.0->spacy<3.5.0,>=3.4.0->en-core-web-sm==3.4.0) (2.10)\n",
            "Requirement already satisfied: chardet<4,>=3.0.2 in /usr/local/lib/python3.7/dist-packages (from requests<3.0.0,>=2.13.0->spacy<3.5.0,>=3.4.0->en-core-web-sm==3.4.0) (3.0.4)\n",
            "Requirement already satisfied: blis<0.8.0,>=0.7.8 in /usr/local/lib/python3.7/dist-packages (from thinc<8.2.0,>=8.1.0->spacy<3.5.0,>=3.4.0->en-core-web-sm==3.4.0) (0.7.8)\n",
            "Requirement already satisfied: click<9.0.0,>=7.1.1 in /usr/local/lib/python3.7/dist-packages (from typer<0.5.0,>=0.3.0->spacy<3.5.0,>=3.4.0->en-core-web-sm==3.4.0) (7.1.2)\n",
            "Requirement already satisfied: MarkupSafe>=0.23 in /usr/local/lib/python3.7/dist-packages (from jinja2->spacy<3.5.0,>=3.4.0->en-core-web-sm==3.4.0) (2.0.1)\n",
            "\u001b[38;5;2m✔ Download and installation successful\u001b[0m\n",
            "You can now load the package via spacy.load('en_core_web_sm')\n",
            "Looking in indexes: https://pypi.org/simple, https://us-python.pkg.dev/colab-wheels/public/simple/\n",
            "Collecting swifter\n",
            "  Downloading swifter-1.3.4.tar.gz (830 kB)\n",
            "\u001b[K     |████████████████████████████████| 830 kB 5.0 MB/s \n",
            "\u001b[?25hRequirement already satisfied: pandas>=1.0.0 in /usr/local/lib/python3.7/dist-packages (from swifter) (1.3.5)\n",
            "Collecting psutil>=5.6.6\n",
            "  Downloading psutil-5.9.2-cp37-cp37m-manylinux_2_12_x86_64.manylinux2010_x86_64.manylinux_2_17_x86_64.manylinux2014_x86_64.whl (281 kB)\n",
            "\u001b[K     |████████████████████████████████| 281 kB 55.9 MB/s \n",
            "\u001b[?25hRequirement already satisfied: dask[dataframe]>=2.10.0 in /usr/local/lib/python3.7/dist-packages (from swifter) (2022.2.0)\n",
            "Requirement already satisfied: tqdm>=4.33.0 in /usr/local/lib/python3.7/dist-packages (from swifter) (4.64.0)\n",
            "Requirement already satisfied: ipywidgets>=7.0.0 in /usr/local/lib/python3.7/dist-packages (from swifter) (7.7.1)\n",
            "Requirement already satisfied: cloudpickle>=0.2.2 in /usr/local/lib/python3.7/dist-packages (from swifter) (1.5.0)\n",
            "Requirement already satisfied: parso>0.4.0 in /usr/local/lib/python3.7/dist-packages (from swifter) (0.8.3)\n",
            "Requirement already satisfied: bleach>=3.1.1 in /usr/local/lib/python3.7/dist-packages (from swifter) (5.0.1)\n",
            "Requirement already satisfied: six>=1.9.0 in /usr/local/lib/python3.7/dist-packages (from bleach>=3.1.1->swifter) (1.15.0)\n",
            "Requirement already satisfied: webencodings in /usr/local/lib/python3.7/dist-packages (from bleach>=3.1.1->swifter) (0.5.1)\n",
            "Requirement already satisfied: fsspec>=0.6.0 in /usr/local/lib/python3.7/dist-packages (from dask[dataframe]>=2.10.0->swifter) (2022.8.1)\n",
            "Requirement already satisfied: partd>=0.3.10 in /usr/local/lib/python3.7/dist-packages (from dask[dataframe]>=2.10.0->swifter) (1.3.0)\n",
            "Requirement already satisfied: toolz>=0.8.2 in /usr/local/lib/python3.7/dist-packages (from dask[dataframe]>=2.10.0->swifter) (0.12.0)\n",
            "Requirement already satisfied: packaging>=20.0 in /usr/local/lib/python3.7/dist-packages (from dask[dataframe]>=2.10.0->swifter) (21.3)\n",
            "Requirement already satisfied: pyyaml>=5.3.1 in /usr/local/lib/python3.7/dist-packages (from dask[dataframe]>=2.10.0->swifter) (6.0)\n",
            "Requirement already satisfied: numpy>=1.18 in /usr/local/lib/python3.7/dist-packages (from dask[dataframe]>=2.10.0->swifter) (1.21.6)\n",
            "Requirement already satisfied: ipython-genutils~=0.2.0 in /usr/local/lib/python3.7/dist-packages (from ipywidgets>=7.0.0->swifter) (0.2.0)\n",
            "Requirement already satisfied: ipython>=4.0.0 in /usr/local/lib/python3.7/dist-packages (from ipywidgets>=7.0.0->swifter) (7.9.0)\n",
            "Requirement already satisfied: ipykernel>=4.5.1 in /usr/local/lib/python3.7/dist-packages (from ipywidgets>=7.0.0->swifter) (5.3.4)\n",
            "Requirement already satisfied: jupyterlab-widgets>=1.0.0 in /usr/local/lib/python3.7/dist-packages (from ipywidgets>=7.0.0->swifter) (3.0.2)\n",
            "Requirement already satisfied: widgetsnbextension~=3.6.0 in /usr/local/lib/python3.7/dist-packages (from ipywidgets>=7.0.0->swifter) (3.6.1)\n",
            "Requirement already satisfied: traitlets>=4.3.1 in /usr/local/lib/python3.7/dist-packages (from ipywidgets>=7.0.0->swifter) (5.1.1)\n",
            "Requirement already satisfied: tornado>=4.2 in /usr/local/lib/python3.7/dist-packages (from ipykernel>=4.5.1->ipywidgets>=7.0.0->swifter) (5.1.1)\n",
            "Requirement already satisfied: jupyter-client in /usr/local/lib/python3.7/dist-packages (from ipykernel>=4.5.1->ipywidgets>=7.0.0->swifter) (6.1.12)\n",
            "Requirement already satisfied: pexpect in /usr/local/lib/python3.7/dist-packages (from ipython>=4.0.0->ipywidgets>=7.0.0->swifter) (4.8.0)\n",
            "Requirement already satisfied: decorator in /usr/local/lib/python3.7/dist-packages (from ipython>=4.0.0->ipywidgets>=7.0.0->swifter) (4.4.2)\n",
            "Requirement already satisfied: setuptools>=18.5 in /usr/local/lib/python3.7/dist-packages (from ipython>=4.0.0->ipywidgets>=7.0.0->swifter) (57.4.0)\n",
            "Requirement already satisfied: backcall in /usr/local/lib/python3.7/dist-packages (from ipython>=4.0.0->ipywidgets>=7.0.0->swifter) (0.2.0)\n",
            "Requirement already satisfied: pickleshare in /usr/local/lib/python3.7/dist-packages (from ipython>=4.0.0->ipywidgets>=7.0.0->swifter) (0.7.5)\n",
            "Requirement already satisfied: pygments in /usr/local/lib/python3.7/dist-packages (from ipython>=4.0.0->ipywidgets>=7.0.0->swifter) (2.6.1)\n",
            "Collecting jedi>=0.10\n",
            "  Downloading jedi-0.18.1-py2.py3-none-any.whl (1.6 MB)\n",
            "\u001b[K     |████████████████████████████████| 1.6 MB 39.4 MB/s \n",
            "\u001b[?25hRequirement already satisfied: prompt-toolkit<2.1.0,>=2.0.0 in /usr/local/lib/python3.7/dist-packages (from ipython>=4.0.0->ipywidgets>=7.0.0->swifter) (2.0.10)\n",
            "Requirement already satisfied: pyparsing!=3.0.5,>=2.0.2 in /usr/local/lib/python3.7/dist-packages (from packaging>=20.0->dask[dataframe]>=2.10.0->swifter) (3.0.9)\n",
            "Requirement already satisfied: python-dateutil>=2.7.3 in /usr/local/lib/python3.7/dist-packages (from pandas>=1.0.0->swifter) (2.8.2)\n",
            "Requirement already satisfied: pytz>=2017.3 in /usr/local/lib/python3.7/dist-packages (from pandas>=1.0.0->swifter) (2022.2.1)\n",
            "Requirement already satisfied: locket in /usr/local/lib/python3.7/dist-packages (from partd>=0.3.10->dask[dataframe]>=2.10.0->swifter) (1.0.0)\n",
            "Requirement already satisfied: wcwidth in /usr/local/lib/python3.7/dist-packages (from prompt-toolkit<2.1.0,>=2.0.0->ipython>=4.0.0->ipywidgets>=7.0.0->swifter) (0.2.5)\n",
            "Requirement already satisfied: notebook>=4.4.1 in /usr/local/lib/python3.7/dist-packages (from widgetsnbextension~=3.6.0->ipywidgets>=7.0.0->swifter) (5.3.1)\n",
            "Requirement already satisfied: jinja2 in /usr/local/lib/python3.7/dist-packages (from notebook>=4.4.1->widgetsnbextension~=3.6.0->ipywidgets>=7.0.0->swifter) (2.11.3)\n",
            "Requirement already satisfied: terminado>=0.8.1 in /usr/local/lib/python3.7/dist-packages (from notebook>=4.4.1->widgetsnbextension~=3.6.0->ipywidgets>=7.0.0->swifter) (0.13.3)\n",
            "Requirement already satisfied: nbconvert in /usr/local/lib/python3.7/dist-packages (from notebook>=4.4.1->widgetsnbextension~=3.6.0->ipywidgets>=7.0.0->swifter) (5.6.1)\n",
            "Requirement already satisfied: nbformat in /usr/local/lib/python3.7/dist-packages (from notebook>=4.4.1->widgetsnbextension~=3.6.0->ipywidgets>=7.0.0->swifter) (5.4.0)\n",
            "Requirement already satisfied: jupyter-core>=4.4.0 in /usr/local/lib/python3.7/dist-packages (from notebook>=4.4.1->widgetsnbextension~=3.6.0->ipywidgets>=7.0.0->swifter) (4.11.1)\n",
            "Requirement already satisfied: Send2Trash in /usr/local/lib/python3.7/dist-packages (from notebook>=4.4.1->widgetsnbextension~=3.6.0->ipywidgets>=7.0.0->swifter) (1.8.0)\n",
            "Requirement already satisfied: pyzmq>=13 in /usr/local/lib/python3.7/dist-packages (from jupyter-client->ipykernel>=4.5.1->ipywidgets>=7.0.0->swifter) (23.2.1)\n",
            "Requirement already satisfied: ptyprocess in /usr/local/lib/python3.7/dist-packages (from terminado>=0.8.1->notebook>=4.4.1->widgetsnbextension~=3.6.0->ipywidgets>=7.0.0->swifter) (0.7.0)\n",
            "Requirement already satisfied: MarkupSafe>=0.23 in /usr/local/lib/python3.7/dist-packages (from jinja2->notebook>=4.4.1->widgetsnbextension~=3.6.0->ipywidgets>=7.0.0->swifter) (2.0.1)\n",
            "Requirement already satisfied: testpath in /usr/local/lib/python3.7/dist-packages (from nbconvert->notebook>=4.4.1->widgetsnbextension~=3.6.0->ipywidgets>=7.0.0->swifter) (0.6.0)\n",
            "Requirement already satisfied: entrypoints>=0.2.2 in /usr/local/lib/python3.7/dist-packages (from nbconvert->notebook>=4.4.1->widgetsnbextension~=3.6.0->ipywidgets>=7.0.0->swifter) (0.4)\n",
            "Requirement already satisfied: pandocfilters>=1.4.1 in /usr/local/lib/python3.7/dist-packages (from nbconvert->notebook>=4.4.1->widgetsnbextension~=3.6.0->ipywidgets>=7.0.0->swifter) (1.5.0)\n",
            "Requirement already satisfied: defusedxml in /usr/local/lib/python3.7/dist-packages (from nbconvert->notebook>=4.4.1->widgetsnbextension~=3.6.0->ipywidgets>=7.0.0->swifter) (0.7.1)\n",
            "Requirement already satisfied: mistune<2,>=0.8.1 in /usr/local/lib/python3.7/dist-packages (from nbconvert->notebook>=4.4.1->widgetsnbextension~=3.6.0->ipywidgets>=7.0.0->swifter) (0.8.4)\n",
            "Requirement already satisfied: jsonschema>=2.6 in /usr/local/lib/python3.7/dist-packages (from nbformat->notebook>=4.4.1->widgetsnbextension~=3.6.0->ipywidgets>=7.0.0->swifter) (4.3.3)\n",
            "Requirement already satisfied: fastjsonschema in /usr/local/lib/python3.7/dist-packages (from nbformat->notebook>=4.4.1->widgetsnbextension~=3.6.0->ipywidgets>=7.0.0->swifter) (2.16.1)\n",
            "Requirement already satisfied: typing-extensions in /usr/local/lib/python3.7/dist-packages (from jsonschema>=2.6->nbformat->notebook>=4.4.1->widgetsnbextension~=3.6.0->ipywidgets>=7.0.0->swifter) (4.1.1)\n",
            "Requirement already satisfied: importlib-resources>=1.4.0 in /usr/local/lib/python3.7/dist-packages (from jsonschema>=2.6->nbformat->notebook>=4.4.1->widgetsnbextension~=3.6.0->ipywidgets>=7.0.0->swifter) (5.9.0)\n",
            "Requirement already satisfied: pyrsistent!=0.17.0,!=0.17.1,!=0.17.2,>=0.14.0 in /usr/local/lib/python3.7/dist-packages (from jsonschema>=2.6->nbformat->notebook>=4.4.1->widgetsnbextension~=3.6.0->ipywidgets>=7.0.0->swifter) (0.18.1)\n",
            "Requirement already satisfied: attrs>=17.4.0 in /usr/local/lib/python3.7/dist-packages (from jsonschema>=2.6->nbformat->notebook>=4.4.1->widgetsnbextension~=3.6.0->ipywidgets>=7.0.0->swifter) (22.1.0)\n",
            "Requirement already satisfied: importlib-metadata in /usr/local/lib/python3.7/dist-packages (from jsonschema>=2.6->nbformat->notebook>=4.4.1->widgetsnbextension~=3.6.0->ipywidgets>=7.0.0->swifter) (4.12.0)\n",
            "Requirement already satisfied: zipp>=3.1.0 in /usr/local/lib/python3.7/dist-packages (from importlib-resources>=1.4.0->jsonschema>=2.6->nbformat->notebook>=4.4.1->widgetsnbextension~=3.6.0->ipywidgets>=7.0.0->swifter) (3.8.1)\n",
            "Building wheels for collected packages: swifter\n",
            "  Building wheel for swifter (setup.py) ... \u001b[?25l\u001b[?25hdone\n",
            "  Created wheel for swifter: filename=swifter-1.3.4-py3-none-any.whl size=16322 sha256=5feaffe98229268655d826c6d8861a1ea12c77b4524258f3df9aab6881c0d66a\n",
            "  Stored in directory: /root/.cache/pip/wheels/29/a7/0e/3a8f17ac69d759e1e93647114bc9bdc95957e5b0cbfd405205\n",
            "Successfully built swifter\n",
            "Installing collected packages: jedi, psutil, swifter\n",
            "  Attempting uninstall: psutil\n",
            "    Found existing installation: psutil 5.4.8\n",
            "    Uninstalling psutil-5.4.8:\n",
            "      Successfully uninstalled psutil-5.4.8\n",
            "Successfully installed jedi-0.18.1 psutil-5.9.2 swifter-1.3.4\n"
          ]
        },
        {
          "data": {
            "application/vnd.colab-display-data+json": {
              "pip_warning": {
                "packages": [
                  "psutil"
                ]
              }
            }
          },
          "metadata": {},
          "output_type": "display_data"
        }
      ],
      "source": [
        "!python -m spacy download en_core_web_sm\n",
        "!pip install swifter\n",
        "import spacy\n",
        "import swifter"
      ]
    },
    {
      "cell_type": "code",
      "execution_count": null,
      "metadata": {
        "colab": {
          "background_save": true
        },
        "id": "92kOWoMIiwJX",
        "outputId": "fb6f4da2-1418-482c-e8f0-3686d7a01f47"
      },
      "outputs": [
        {
          "name": "stdout",
          "output_type": "stream",
          "text": [
            "['tok2vec', 'tagger', 'parser', 'attribute_ruler', 'lemmatizer', 'ner']\n"
          ]
        }
      ],
      "source": [
        "nlp = spacy.load('en_core_web_sm')\n",
        "print(nlp.pipe_names)"
      ]
    },
    {
      "cell_type": "code",
      "execution_count": null,
      "metadata": {
        "colab": {
          "background_save": true
        },
        "id": "4B4I98w1Tq_2",
        "outputId": "d255b36a-ea73-4ef2-d1c0-4a4efdf4377d"
      },
      "outputs": [
        {
          "name": "stdout",
          "output_type": "stream",
          "text": [
            "['ner']\n"
          ]
        }
      ],
      "source": [
        "disabled = nlp.select_pipes(disable= ['tok2vec', 'tagger', 'parser', 'attribute_ruler', 'lemmatizer'])\n",
        "print(nlp.pipe_names)"
      ]
    },
    {
      "cell_type": "code",
      "execution_count": null,
      "metadata": {
        "colab": {
          "background_save": true
        },
        "id": "mH9RwuuUkB6l"
      },
      "outputs": [],
      "source": [
        "from bs4 import BeautifulSoup\n",
        "import re"
      ]
    },
    {
      "cell_type": "markdown",
      "metadata": {
        "id": "GDP8Vaw0UPTp"
      },
      "source": [
        "## <font color = 'dodgerblue'>**Step 2: Read Train.csv into a Dataframe**"
      ]
    },
    {
      "cell_type": "code",
      "execution_count": 44,
      "metadata": {
        "colab": {
          "base_uri": "https://localhost:8080/",
          "height": 0
        },
        "id": "uq1vK54og6bN",
        "outputId": "49861849-0c8f-47f8-a4f8-0bdbb47d448e"
      },
      "outputs": [
        {
          "name": "stdout",
          "output_type": "stream",
          "text": [
            "--2022-09-11 03:11:10--  https://ai.stanford.edu/~amaas/data/sentiment/aclImdb_v1.tar.gz\n",
            "Resolving ai.stanford.edu (ai.stanford.edu)... 171.64.68.10\n",
            "Connecting to ai.stanford.edu (ai.stanford.edu)|171.64.68.10|:443... connected.\n",
            "HTTP request sent, awaiting response... 200 OK\n",
            "Length: 84125825 (80M) [application/x-gzip]\n",
            "Saving to: ‘/content/drive/MyDrive/6342_NLP/Lecture2/archive/aclImdb_v1.tar.gz.6’\n",
            "\n",
            "aclImdb_v1.tar.gz.6 100%[===================>]  80.23M  22.1MB/s    in 5.9s    \n",
            "\n",
            "2022-09-11 03:11:16 (13.5 MB/s) - ‘/content/drive/MyDrive/6342_NLP/Lecture2/archive/aclImdb_v1.tar.gz.6’ saved [84125825/84125825]\n",
            "\n"
          ]
        }
      ],
      "source": [
        "url = 'https://ai.stanford.edu/~amaas/data/sentiment/aclImdb_v1.tar.gz'\n",
        "!wget {url} -P {archive_folder}\n",
        "\n",
        "with tarfile.open(archive_folder/'aclImdb_v1.tar.gz', 'r') as tar:\n",
        " tar.extractall(data_folder/'aclImdb_v1')"
      ]
    },
    {
      "cell_type": "code",
      "execution_count": null,
      "metadata": {
        "colab": {
          "background_save": true
        },
        "id": "op0qX41zJeX5"
      },
      "outputs": [],
      "source": [
        "mdf = pd.read_csv(base_path + '/Data/train.csv')"
      ]
    },
    {
      "cell_type": "markdown",
      "metadata": {
        "id": "68HzhAGhUbVA"
      },
      "source": [
        "## <font color = 'dodgerblue'>**Step 3: Remove HTML Text**"
      ]
    },
    {
      "cell_type": "code",
      "execution_count": null,
      "metadata": {
        "colab": {
          "background_save": true,
          "referenced_widgets": [
            "cc9ffa44008c48009476fdd555f137ad"
          ]
        },
        "id": "YHT5bLTviQHt",
        "outputId": "48aebdf0-8179-40df-cd68-04c90fed9823"
      },
      "outputs": [
        {
          "data": {
            "application/vnd.jupyter.widget-view+json": {
              "model_id": "cc9ffa44008c48009476fdd555f137ad",
              "version_major": 2,
              "version_minor": 0
            },
            "text/plain": [
              "Pandas Apply:   0%|          | 0/25000 [00:00<?, ?it/s]"
            ]
          },
          "metadata": {},
          "output_type": "display_data"
        }
      ],
      "source": [
        "def RemoveHTML(text):\n",
        "  return BeautifulSoup(text , \"html.parser\").get_text()\n",
        "\n",
        "df['cleaned_text'] = df['Reviews'].swifter.apply(RemoveHTML)"
      ]
    },
    {
      "cell_type": "markdown",
      "metadata": {
        "id": "2JrEwCBkUfEo"
      },
      "source": [
        "## <font color = 'dodgerblue'>**Step 4: Remove New Line Text**"
      ]
    },
    {
      "cell_type": "code",
      "execution_count": null,
      "metadata": {
        "colab": {
          "background_save": true,
          "referenced_widgets": [
            "bf19d81d155a409a90db494e66b31eec"
          ]
        },
        "id": "s10WW1rzkywF",
        "outputId": "fe5c6b60-1dd8-4f27-ae7b-1aab12bb97c2"
      },
      "outputs": [
        {
          "data": {
            "application/vnd.jupyter.widget-view+json": {
              "model_id": "bf19d81d155a409a90db494e66b31eec",
              "version_major": 2,
              "version_minor": 0
            },
            "text/plain": [
              "Pandas Apply:   0%|          | 0/25000 [00:00<?, ?it/s]"
            ]
          },
          "metadata": {},
          "output_type": "display_data"
        }
      ],
      "source": [
        "def RemoveNewLine(text):\n",
        "  return re.sub(r'[\\n]', '', text)\n",
        "\n",
        "df['cleaned_text'] = df['cleaned_text'].swifter.apply(RemoveNewLine)"
      ]
    },
    {
      "cell_type": "markdown",
      "metadata": {
        "id": "xuRqNnZ5Ui9y"
      },
      "source": [
        "## <font color = 'dodgerblue'>**Step 5: Remove Punctuation, URL and Emails**"
      ]
    },
    {
      "cell_type": "code",
      "execution_count": null,
      "metadata": {
        "colab": {
          "background_save": true,
          "referenced_widgets": [
            "a7a1476ccf774812986b40e5182bc589"
          ]
        },
        "id": "XlDUTtkfoRmd",
        "outputId": "f47f7458-0aad-42b1-8281-4e2632bf053a"
      },
      "outputs": [
        {
          "data": {
            "application/vnd.jupyter.widget-view+json": {
              "model_id": "a7a1476ccf774812986b40e5182bc589",
              "version_major": 2,
              "version_minor": 0
            },
            "text/plain": [
              "Pandas Apply:   0%|          | 0/25000 [00:00<?, ?it/s]"
            ]
          },
          "metadata": {},
          "output_type": "display_data"
        }
      ],
      "source": [
        "def RemoveOtherStuff(text):\n",
        "  doc = nlp(text)\n",
        "  t = ' '.join([token.text for token in doc if not token.is_punct])\n",
        "  doc = nlp(t)\n",
        "  t = ' '.join([token.text for token in doc if not token.like_url])\n",
        "  doc = nlp(t)\n",
        "  t = ' '.join([token.text for token in doc if not token.like_email])\n",
        "  return t\n",
        "\n",
        "df['cleaned_text'] = df['cleaned_text'].swifter.apply(RemoveOtherStuff)"
      ]
    },
    {
      "cell_type": "code",
      "execution_count": null,
      "metadata": {
        "colab": {
          "background_save": true
        },
        "id": "FeX6eJaSiEOm",
        "outputId": "779ec5fb-5262-4b14-b252-53dbc30c1aa2"
      },
      "outputs": [
        {
          "data": {
            "application/vnd.google.colaboratory.intrinsic+json": {
              "type": "string"
            },
            "text/plain": [
              "\"Ever wanted to know just how much Hollywood could get away with before the Hayes Code was officially put into effect Well unfortunately Convention City is lost so well just have to watch Tarzan and His Mate to find out For 1934 there is a remarkable amount of sexual innuendo and even exposed flesh Just look at Jane 's nude swim While Tarzan is often thought of as b adventure films made for young boys and no one else this picture proves that the series was originally very adult Over seventy years later it is still as sexy as it was when it came out In addition to the envelope pushing taboo nature it is a superb and exciting adventure story I ' ve always enjoyed the jungle films that Hollywood churned out in the 30s and the 40s but there are few from the genre I 'd call great films Tarzan and His Mate is by far the best film from this long gone subgenre The sequences of the attacks on the safari by either apes or natives still manage to create tension today Also the animals are all too cool espescially the apes throwing boulders The acting wo n't win any major awards soon but is certainly more than adequate for this type of picture The film is once again stolen by Cheetah the smartest monkey in the jungle One of the most entertaining examples of pre code Hollywood out there\""
            ]
          },
          "execution_count": 24,
          "metadata": {},
          "output_type": "execute_result"
        }
      ],
      "source": [
        "df['cleaned_text'][0]"
      ]
    },
    {
      "cell_type": "markdown",
      "metadata": {
        "id": "7bYypGFQUrdQ"
      },
      "source": [
        "## <font color = 'dodgerblue'>**Step 6: Count Number of Words**"
      ]
    },
    {
      "cell_type": "code",
      "execution_count": null,
      "metadata": {
        "colab": {
          "background_save": true,
          "referenced_widgets": [
            "a1b552bbaed84032932cc96b8221a45b"
          ]
        },
        "id": "qP_EDIv1xiIM",
        "outputId": "eba4b814-52d6-4337-970c-73ee62c9309e"
      },
      "outputs": [
        {
          "data": {
            "application/vnd.jupyter.widget-view+json": {
              "model_id": "a1b552bbaed84032932cc96b8221a45b",
              "version_major": 2,
              "version_minor": 0
            },
            "text/plain": [
              "Pandas Apply:   0%|          | 0/25000 [00:00<?, ?it/s]"
            ]
          },
          "metadata": {},
          "output_type": "display_data"
        }
      ],
      "source": [
        "def countNumWords(text):\n",
        "  return len(text.split())\n",
        "\n",
        "df['number of words'] = df['cleaned_text'].swifter.apply(countNumWords)"
      ]
    },
    {
      "cell_type": "markdown",
      "metadata": {
        "id": "eyuGtGOvUv84"
      },
      "source": [
        "## <font color = 'dodgerblue'>**Step 7: Count Number of Characters**"
      ]
    },
    {
      "cell_type": "code",
      "execution_count": null,
      "metadata": {
        "colab": {
          "background_save": true,
          "referenced_widgets": [
            "88d3202b10124ed69bdd70552ad32dcd"
          ]
        },
        "id": "-r8gjU_byjh_",
        "outputId": "8476fd1e-012c-4f56-f0ed-329dc39a9e81"
      },
      "outputs": [
        {
          "data": {
            "application/vnd.jupyter.widget-view+json": {
              "model_id": "88d3202b10124ed69bdd70552ad32dcd",
              "version_major": 2,
              "version_minor": 0
            },
            "text/plain": [
              "Pandas Apply:   0%|          | 0/25000 [00:00<?, ?it/s]"
            ]
          },
          "metadata": {},
          "output_type": "display_data"
        }
      ],
      "source": [
        "def countNumCharacters(text):\n",
        "  return len(text)\n",
        "\n",
        "df['number of characters'] = df['cleaned_text'].swifter.apply(countNumCharacters)"
      ]
    },
    {
      "cell_type": "markdown",
      "metadata": {
        "id": "D0F85G9-U1CQ"
      },
      "source": [
        "## <font color = 'dodgerblue'>**Step 8: Count Number of Characters Without Space**"
      ]
    },
    {
      "cell_type": "code",
      "execution_count": null,
      "metadata": {
        "colab": {
          "background_save": true,
          "referenced_widgets": [
            "9aeb5e9da001453cb420971f2cdbca1f"
          ]
        },
        "id": "ORr4dvSOyuCu",
        "outputId": "f1e07e9b-9932-45b8-caed-aeef4d87cf1d"
      },
      "outputs": [
        {
          "data": {
            "application/vnd.jupyter.widget-view+json": {
              "model_id": "9aeb5e9da001453cb420971f2cdbca1f",
              "version_major": 2,
              "version_minor": 0
            },
            "text/plain": [
              "Pandas Apply:   0%|          | 0/25000 [00:00<?, ?it/s]"
            ]
          },
          "metadata": {},
          "output_type": "display_data"
        }
      ],
      "source": [
        "def countNumCharactersWoSpace(text):\n",
        "  return len(re.sub(' ', '', text))\n",
        "\n",
        "df['number of characters without space'] = df['cleaned_text'].swifter.apply(countNumCharactersWoSpace)"
      ]
    },
    {
      "cell_type": "markdown",
      "metadata": {
        "id": "G6HzCgwZU3_i"
      },
      "source": [
        "## <font color = 'dodgerblue'>**Step 9: Count of Numbers**"
      ]
    },
    {
      "cell_type": "code",
      "execution_count": 28,
      "metadata": {
        "colab": {
          "base_uri": "https://localhost:8080/",
          "height": 34,
          "referenced_widgets": [
            "d3c579adab824411b695f2eb28006732"
          ]
        },
        "id": "JjQs4-LQEUB1",
        "outputId": "b37127a5-0ce6-4666-8da1-5330096dc808"
      },
      "outputs": [
        {
          "data": {
            "application/vnd.jupyter.widget-view+json": {
              "model_id": "d3c579adab824411b695f2eb28006732",
              "version_major": 2,
              "version_minor": 0
            },
            "text/plain": [
              "Pandas Apply:   0%|          | 0/25000 [00:00<?, ?it/s]"
            ]
          },
          "metadata": {},
          "output_type": "display_data"
        }
      ],
      "source": [
        "def countNums(text):\n",
        "  doc = nlp(text)\n",
        "  return len([token.text for token in doc if token.is_digit])\n",
        "\n",
        "df['count of number'] = df['cleaned_text'].swifter.apply(countNums)"
      ]
    },
    {
      "cell_type": "markdown",
      "metadata": {
        "id": "yNZCSbG3VGMx"
      },
      "source": [
        "## <font color = 'dodgerblue'>**Step 10: Get Average Word Length**"
      ]
    },
    {
      "cell_type": "code",
      "execution_count": 45,
      "metadata": {
        "id": "aozNuPPiRwRd"
      },
      "outputs": [],
      "source": [
        "import math\n",
        "import numpy as np\n",
        "# def avgWordLen(text):\n",
        "#   doc = nlp(text)\n",
        "#   return sum(df['number of words'])/len(df['number of words'])\n",
        "\n",
        "df['average Word Length'] = df['cleaned_text'].apply(lambda x: np.mean([len(w) for w in x.split()]))"
      ]
    },
    {
      "cell_type": "code",
      "execution_count": 46,
      "metadata": {
        "id": "2KAhFPhB9kMI"
      },
      "outputs": [],
      "source": [
        "dfout = df\n",
        "# dfout.reset_index(drop=True)\n",
        "dfout = dfout.loc[:, ~dfout.columns.str.contains('^Unnamed')]\n",
        "dfout = dfout.loc[:, ~dfout.columns.str.contains('^Labels')]"
      ]
    },
    {
      "cell_type": "code",
      "execution_count": 47,
      "metadata": {
        "colab": {
          "base_uri": "https://localhost:8080/",
          "height": 424
        },
        "id": "8txlrQaXfcrp",
        "outputId": "a24e4ea5-5e2a-4c0e-a3e8-150e89c6662f"
      },
      "outputs": [
        {
          "data": {
            "text/html": [
              "\n",
              "  <div id=\"df-e8d12c0c-4f0f-4695-9d40-9a16df03b0fb\">\n",
              "    <div class=\"colab-df-container\">\n",
              "      <div>\n",
              "<style scoped>\n",
              "    .dataframe tbody tr th:only-of-type {\n",
              "        vertical-align: middle;\n",
              "    }\n",
              "\n",
              "    .dataframe tbody tr th {\n",
              "        vertical-align: top;\n",
              "    }\n",
              "\n",
              "    .dataframe thead th {\n",
              "        text-align: right;\n",
              "    }\n",
              "</style>\n",
              "<table border=\"1\" class=\"dataframe\">\n",
              "  <thead>\n",
              "    <tr style=\"text-align: right;\">\n",
              "      <th></th>\n",
              "      <th>Reviews</th>\n",
              "      <th>cleaned_text</th>\n",
              "      <th>number of words</th>\n",
              "      <th>number of characters</th>\n",
              "      <th>number of characters without space</th>\n",
              "      <th>count of number</th>\n",
              "      <th>average Word Length</th>\n",
              "    </tr>\n",
              "  </thead>\n",
              "  <tbody>\n",
              "    <tr>\n",
              "      <th>0</th>\n",
              "      <td>Ever wanted to know just how much Hollywood co...</td>\n",
              "      <td>Ever wanted to know just how much Hollywood co...</td>\n",
              "      <td>243</td>\n",
              "      <td>1292</td>\n",
              "      <td>1050</td>\n",
              "      <td>1</td>\n",
              "      <td>4.320988</td>\n",
              "    </tr>\n",
              "    <tr>\n",
              "      <th>1</th>\n",
              "      <td>The movie itself was ok for the kids. But I go...</td>\n",
              "      <td>The movie itself was ok for the kids But I got...</td>\n",
              "      <td>59</td>\n",
              "      <td>283</td>\n",
              "      <td>225</td>\n",
              "      <td>0</td>\n",
              "      <td>3.813559</td>\n",
              "    </tr>\n",
              "    <tr>\n",
              "      <th>2</th>\n",
              "      <td>You could stage a version of Charles Dickens' ...</td>\n",
              "      <td>You could stage a version of Charles Dickens A...</td>\n",
              "      <td>850</td>\n",
              "      <td>4674</td>\n",
              "      <td>3825</td>\n",
              "      <td>1</td>\n",
              "      <td>4.500000</td>\n",
              "    </tr>\n",
              "    <tr>\n",
              "      <th>3</th>\n",
              "      <td>this was a fantastic episode. i saw a clip fro...</td>\n",
              "      <td>this was a fantastic episode i saw a clip from...</td>\n",
              "      <td>131</td>\n",
              "      <td>636</td>\n",
              "      <td>506</td>\n",
              "      <td>0</td>\n",
              "      <td>3.862595</td>\n",
              "    </tr>\n",
              "    <tr>\n",
              "      <th>4</th>\n",
              "      <td>and laugh out loud funny in many scenes.&lt;br /&gt;...</td>\n",
              "      <td>and laugh out loud funny in many scenes The mo...</td>\n",
              "      <td>105</td>\n",
              "      <td>545</td>\n",
              "      <td>441</td>\n",
              "      <td>0</td>\n",
              "      <td>4.200000</td>\n",
              "    </tr>\n",
              "    <tr>\n",
              "      <th>...</th>\n",
              "      <td>...</td>\n",
              "      <td>...</td>\n",
              "      <td>...</td>\n",
              "      <td>...</td>\n",
              "      <td>...</td>\n",
              "      <td>...</td>\n",
              "      <td>...</td>\n",
              "    </tr>\n",
              "    <tr>\n",
              "      <th>24995</th>\n",
              "      <td>I really felt cheated after seeing this pictur...</td>\n",
              "      <td>I really felt cheated after seeing this pictur...</td>\n",
              "      <td>287</td>\n",
              "      <td>1446</td>\n",
              "      <td>1160</td>\n",
              "      <td>5</td>\n",
              "      <td>4.041812</td>\n",
              "    </tr>\n",
              "    <tr>\n",
              "      <th>24996</th>\n",
              "      <td>Ok,so.....guy gets bitten by a bat and then tu...</td>\n",
              "      <td>Ok so guy gets bitten by a bat and then turns ...</td>\n",
              "      <td>44</td>\n",
              "      <td>208</td>\n",
              "      <td>165</td>\n",
              "      <td>0</td>\n",
              "      <td>3.750000</td>\n",
              "    </tr>\n",
              "    <tr>\n",
              "      <th>24997</th>\n",
              "      <td>I am generally more willing to be open minded ...</td>\n",
              "      <td>I am generally more willing to be open minded ...</td>\n",
              "      <td>358</td>\n",
              "      <td>1875</td>\n",
              "      <td>1518</td>\n",
              "      <td>1</td>\n",
              "      <td>4.240223</td>\n",
              "    </tr>\n",
              "    <tr>\n",
              "      <th>24998</th>\n",
              "      <td>What a load of rubbish.. I can't even begin to...</td>\n",
              "      <td>What a load of rubbish I ca n't even begin to ...</td>\n",
              "      <td>273</td>\n",
              "      <td>1430</td>\n",
              "      <td>1158</td>\n",
              "      <td>3</td>\n",
              "      <td>4.241758</td>\n",
              "    </tr>\n",
              "    <tr>\n",
              "      <th>24999</th>\n",
              "      <td>Well, this movie started out funny but quickly...</td>\n",
              "      <td>Well this movie started out funny but quickly ...</td>\n",
              "      <td>143</td>\n",
              "      <td>747</td>\n",
              "      <td>605</td>\n",
              "      <td>0</td>\n",
              "      <td>4.230769</td>\n",
              "    </tr>\n",
              "  </tbody>\n",
              "</table>\n",
              "<p>25000 rows × 7 columns</p>\n",
              "</div>\n",
              "      <button class=\"colab-df-convert\" onclick=\"convertToInteractive('df-e8d12c0c-4f0f-4695-9d40-9a16df03b0fb')\"\n",
              "              title=\"Convert this dataframe to an interactive table.\"\n",
              "              style=\"display:none;\">\n",
              "        \n",
              "  <svg xmlns=\"http://www.w3.org/2000/svg\" height=\"24px\"viewBox=\"0 0 24 24\"\n",
              "       width=\"24px\">\n",
              "    <path d=\"M0 0h24v24H0V0z\" fill=\"none\"/>\n",
              "    <path d=\"M18.56 5.44l.94 2.06.94-2.06 2.06-.94-2.06-.94-.94-2.06-.94 2.06-2.06.94zm-11 1L8.5 8.5l.94-2.06 2.06-.94-2.06-.94L8.5 2.5l-.94 2.06-2.06.94zm10 10l.94 2.06.94-2.06 2.06-.94-2.06-.94-.94-2.06-.94 2.06-2.06.94z\"/><path d=\"M17.41 7.96l-1.37-1.37c-.4-.4-.92-.59-1.43-.59-.52 0-1.04.2-1.43.59L10.3 9.45l-7.72 7.72c-.78.78-.78 2.05 0 2.83L4 21.41c.39.39.9.59 1.41.59.51 0 1.02-.2 1.41-.59l7.78-7.78 2.81-2.81c.8-.78.8-2.07 0-2.86zM5.41 20L4 18.59l7.72-7.72 1.47 1.35L5.41 20z\"/>\n",
              "  </svg>\n",
              "      </button>\n",
              "      \n",
              "  <style>\n",
              "    .colab-df-container {\n",
              "      display:flex;\n",
              "      flex-wrap:wrap;\n",
              "      gap: 12px;\n",
              "    }\n",
              "\n",
              "    .colab-df-convert {\n",
              "      background-color: #E8F0FE;\n",
              "      border: none;\n",
              "      border-radius: 50%;\n",
              "      cursor: pointer;\n",
              "      display: none;\n",
              "      fill: #1967D2;\n",
              "      height: 32px;\n",
              "      padding: 0 0 0 0;\n",
              "      width: 32px;\n",
              "    }\n",
              "\n",
              "    .colab-df-convert:hover {\n",
              "      background-color: #E2EBFA;\n",
              "      box-shadow: 0px 1px 2px rgba(60, 64, 67, 0.3), 0px 1px 3px 1px rgba(60, 64, 67, 0.15);\n",
              "      fill: #174EA6;\n",
              "    }\n",
              "\n",
              "    [theme=dark] .colab-df-convert {\n",
              "      background-color: #3B4455;\n",
              "      fill: #D2E3FC;\n",
              "    }\n",
              "\n",
              "    [theme=dark] .colab-df-convert:hover {\n",
              "      background-color: #434B5C;\n",
              "      box-shadow: 0px 1px 3px 1px rgba(0, 0, 0, 0.15);\n",
              "      filter: drop-shadow(0px 1px 2px rgba(0, 0, 0, 0.3));\n",
              "      fill: #FFFFFF;\n",
              "    }\n",
              "  </style>\n",
              "\n",
              "      <script>\n",
              "        const buttonEl =\n",
              "          document.querySelector('#df-e8d12c0c-4f0f-4695-9d40-9a16df03b0fb button.colab-df-convert');\n",
              "        buttonEl.style.display =\n",
              "          google.colab.kernel.accessAllowed ? 'block' : 'none';\n",
              "\n",
              "        async function convertToInteractive(key) {\n",
              "          const element = document.querySelector('#df-e8d12c0c-4f0f-4695-9d40-9a16df03b0fb');\n",
              "          const dataTable =\n",
              "            await google.colab.kernel.invokeFunction('convertToInteractive',\n",
              "                                                     [key], {});\n",
              "          if (!dataTable) return;\n",
              "\n",
              "          const docLinkHtml = 'Like what you see? Visit the ' +\n",
              "            '<a target=\"_blank\" href=https://colab.research.google.com/notebooks/data_table.ipynb>data table notebook</a>'\n",
              "            + ' to learn more about interactive tables.';\n",
              "          element.innerHTML = '';\n",
              "          dataTable['output_type'] = 'display_data';\n",
              "          await google.colab.output.renderOutput(dataTable, element);\n",
              "          const docLink = document.createElement('div');\n",
              "          docLink.innerHTML = docLinkHtml;\n",
              "          element.appendChild(docLink);\n",
              "        }\n",
              "      </script>\n",
              "    </div>\n",
              "  </div>\n",
              "  "
            ],
            "text/plain": [
              "                                                 Reviews  \\\n",
              "0      Ever wanted to know just how much Hollywood co...   \n",
              "1      The movie itself was ok for the kids. But I go...   \n",
              "2      You could stage a version of Charles Dickens' ...   \n",
              "3      this was a fantastic episode. i saw a clip fro...   \n",
              "4      and laugh out loud funny in many scenes.<br />...   \n",
              "...                                                  ...   \n",
              "24995  I really felt cheated after seeing this pictur...   \n",
              "24996  Ok,so.....guy gets bitten by a bat and then tu...   \n",
              "24997  I am generally more willing to be open minded ...   \n",
              "24998  What a load of rubbish.. I can't even begin to...   \n",
              "24999  Well, this movie started out funny but quickly...   \n",
              "\n",
              "                                            cleaned_text  number of words  \\\n",
              "0      Ever wanted to know just how much Hollywood co...              243   \n",
              "1      The movie itself was ok for the kids But I got...               59   \n",
              "2      You could stage a version of Charles Dickens A...              850   \n",
              "3      this was a fantastic episode i saw a clip from...              131   \n",
              "4      and laugh out loud funny in many scenes The mo...              105   \n",
              "...                                                  ...              ...   \n",
              "24995  I really felt cheated after seeing this pictur...              287   \n",
              "24996  Ok so guy gets bitten by a bat and then turns ...               44   \n",
              "24997  I am generally more willing to be open minded ...              358   \n",
              "24998  What a load of rubbish I ca n't even begin to ...              273   \n",
              "24999  Well this movie started out funny but quickly ...              143   \n",
              "\n",
              "       number of characters  number of characters without space  \\\n",
              "0                      1292                                1050   \n",
              "1                       283                                 225   \n",
              "2                      4674                                3825   \n",
              "3                       636                                 506   \n",
              "4                       545                                 441   \n",
              "...                     ...                                 ...   \n",
              "24995                  1446                                1160   \n",
              "24996                   208                                 165   \n",
              "24997                  1875                                1518   \n",
              "24998                  1430                                1158   \n",
              "24999                   747                                 605   \n",
              "\n",
              "       count of number  average Word Length  \n",
              "0                    1             4.320988  \n",
              "1                    0             3.813559  \n",
              "2                    1             4.500000  \n",
              "3                    0             3.862595  \n",
              "4                    0             4.200000  \n",
              "...                ...                  ...  \n",
              "24995                5             4.041812  \n",
              "24996                0             3.750000  \n",
              "24997                1             4.240223  \n",
              "24998                3             4.241758  \n",
              "24999                0             4.230769  \n",
              "\n",
              "[25000 rows x 7 columns]"
            ]
          },
          "execution_count": 47,
          "metadata": {},
          "output_type": "execute_result"
        }
      ],
      "source": [
        "dfout"
      ]
    }
  ],
  "metadata": {
    "colab": {
      "collapsed_sections": [
        "3cfCXWzzuZKE",
        "rh2s542civAU"
      ],
      "machine_shape": "hm",
      "provenance": []
    },
    "gpuClass": "standard",
    "kernelspec": {
      "display_name": "Python 3 (ipykernel)",
      "language": "python",
      "name": "python3"
    },
    "language_info": {
      "codemirror_mode": {
        "name": "ipython",
        "version": 3
      },
      "file_extension": ".py",
      "mimetype": "text/x-python",
      "name": "python",
      "nbconvert_exporter": "python",
      "pygments_lexer": "ipython3",
      "version": "3.8.12"
    }
  },
  "nbformat": 4,
  "nbformat_minor": 0
}
